{
 "cells": [
  {
   "cell_type": "markdown",
   "metadata": {},
   "source": [
    "# Assignment 2: ML Engineering 2"
   ]
  },
  {
   "cell_type": "code",
   "execution_count": 1,
   "metadata": {},
   "outputs": [],
   "source": [
    "# enter your name and UFL email address\n",
    "name = 'enter your name'\n",
    "email = 'enter your email'\n",
    "\n",
    "name = 'solution' # ###- \n",
    "email = 'solution' # ###- "
   ]
  },
  {
   "cell_type": "code",
   "execution_count": 2,
   "metadata": {},
   "outputs": [
    {
     "name": "stdout",
     "output_type": "stream",
     "text": [
      "Assignment 2 -- name: solution, email: solution\n",
      "\n",
      "### Python version: 3.8.5 (default, Jul 28 2020, 12:59:40) \n",
      "[GCC 9.3.0]\n",
      "### NumPy version: 1.19.5\n",
      "### Scikit-learn version: 0.24.0\n",
      "------------\n"
     ]
    }
   ],
   "source": [
    "if name == 'enter your name' or email == 'enter your email':\n",
    "    assert False, 'Enter your name & email first!'\n",
    "else:\n",
    "    print('Assignment 2 -- name: {}, email: {}\\n'.format(name, email))\n",
    "    \n",
    "    # Load packages we need\n",
    "    import sys\n",
    "    import os\n",
    "    import time\n",
    "\n",
    "    import numpy as np\n",
    "    import pandas as pd\n",
    "    import sklearn\n",
    "\n",
    "    from matplotlib import pyplot as plt\n",
    "    plt.rcParams.update({'font.size': 16})\n",
    "\n",
    "    # Let's check our software versions\n",
    "    print('### Python version: ' + __import__('sys').version)\n",
    "    print('### NumPy version: ' + np.__version__)\n",
    "    print('### Scikit-learn version: ' + sklearn.__version__)\n",
    "    print('------------')\n",
    "\n",
    "\n",
    "    # load our packages / code\n",
    "    sys.path.insert(1, '../common/')\n",
    "    import utils\n",
    "    import plots"
   ]
  },
  {
   "cell_type": "code",
   "execution_count": 3,
   "metadata": {},
   "outputs": [],
   "source": [
    "# global parameters to control behavior of the pre-processing, ML, analysis, etc.\n",
    "seed = 42\n",
    "\n",
    "# deterministic seed for reproducibility\n",
    "##rng = np.random.default_rng(seed)  # best practice but not fully implemented in scikit-learn\n",
    "np.random.seed(seed)\n",
    "\n",
    "prop_vec = [16, 2, 2]"
   ]
  },
  {
   "cell_type": "markdown",
   "metadata": {},
   "source": [
    "## Part 1: Loading and Pre-processing Data"
   ]
  },
  {
   "cell_type": "markdown",
   "metadata": {},
   "source": [
    "### Loading data"
   ]
  },
  {
   "cell_type": "code",
   "execution_count": 4,
   "metadata": {},
   "outputs": [],
   "source": [
    "### In this case, we'll directly load the Adult dataset pre-processed in a similar way as for assignment 1\n",
    "### and we'll immediately split it into train, test, validation.\n",
    "\n",
    "train_x, train_y, test_x, test_y, val_x, val_y, features, labels = utils.load_preproc_adult(prop_vec=prop_vec, seed=seed)"
   ]
  },
  {
   "cell_type": "code",
   "execution_count": 5,
   "metadata": {},
   "outputs": [
    {
     "name": "stdout",
     "output_type": "stream",
     "text": [
      "Training: (36178, 88), (36178,)\n",
      "Test: (4523, 88), (4523,)\n",
      "Validation: (4521, 88), (4521,)\n"
     ]
    }
   ],
   "source": [
    "# check that we have what we expect\n",
    "print('Training: {}, {}'.format(train_x.shape, train_y.shape))\n",
    "print('Test: {}, {}'.format(test_x.shape, test_y.shape))\n",
    "print('Validation: {}, {}'.format(val_x.shape, val_y.shape))"
   ]
  },
  {
   "cell_type": "code",
   "execution_count": 6,
   "metadata": {},
   "outputs": [
    {
     "name": "stdout",
     "output_type": "stream",
     "text": [
      "Features: ['age', 'workclass_0', 'workclass_1', 'workclass_2', 'workclass_3', 'workclass_4', 'workclass_5', 'workclass_6', 'workclass_7', 'education-num', 'marital-status_0', 'marital-status_1', 'marital-status_2', 'marital-status_3', 'marital-status_4', 'marital-status_5', 'marital-status_6', 'occupation_0', 'occupation_1', 'occupation_2', 'occupation_3', 'occupation_4', 'occupation_5', 'occupation_6', 'occupation_7', 'occupation_8', 'occupation_9', 'occupation_10', 'occupation_11', 'occupation_12', 'occupation_13', 'relationship_0', 'relationship_1', 'relationship_2', 'relationship_3', 'relationship_4', 'relationship_5', 'race_0', 'race_1', 'race_2', 'race_3', 'race_4', 'sex_0', 'sex_1', 'capital-gain', 'capital-loss', 'hours-per-week', 'native-country_0', 'native-country_1', 'native-country_2', 'native-country_3', 'native-country_4', 'native-country_5', 'native-country_6', 'native-country_7', 'native-country_8', 'native-country_9', 'native-country_10', 'native-country_11', 'native-country_12', 'native-country_13', 'native-country_14', 'native-country_15', 'native-country_16', 'native-country_17', 'native-country_18', 'native-country_19', 'native-country_20', 'native-country_21', 'native-country_22', 'native-country_23', 'native-country_24', 'native-country_25', 'native-country_26', 'native-country_27', 'native-country_28', 'native-country_29', 'native-country_30', 'native-country_31', 'native-country_32', 'native-country_33', 'native-country_34', 'native-country_35', 'native-country_36', 'native-country_37', 'native-country_38', 'native-country_39', 'native-country_40']\n",
      "Labels: ['<=50K', '>50K']\n"
     ]
    }
   ],
   "source": [
    "# print features and labels\n",
    "print('Features: {}'.format(features))\n",
    "print('Labels: {}'.format(labels))\n",
    "\n",
    "# as you can see this the one-hot encoded version of the data with proper names for the columns/features."
   ]
  },
  {
   "cell_type": "code",
   "execution_count": 7,
   "metadata": {},
   "outputs": [
    {
     "name": "stdout",
     "output_type": "stream",
     "text": [
      "[ 0.94207283  1.          0.          0.          0.          0.\n",
      "  0.          0.          0.          1.12875281  0.          0.\n",
      "  1.          0.          0.          0.          0.          0.\n",
      "  0.          0.          0.          0.          0.          0.\n",
      "  0.          0.          1.          0.          0.          0.\n",
      "  0.          1.          0.          0.          0.          0.\n",
      "  0.          0.          0.          0.          0.          1.\n",
      "  1.          0.         -0.1467332  -0.21878026  0.7547014   0.\n",
      "  0.          0.          0.          0.          0.          0.\n",
      "  0.          0.          0.          0.          0.          0.\n",
      "  0.          0.          0.          0.          0.          0.\n",
      "  0.          0.          0.          0.          0.          0.\n",
      "  0.          0.          0.          0.          0.          0.\n",
      "  0.          0.          0.          0.          0.          0.\n",
      "  0.          1.          0.          0.        ]\n",
      "[1. 1. 1. 1. 0. 1. 0. 1. 0. 0. 1. 1. 0. 0. 0. 0. 1. 0. 0. 0.]\n"
     ]
    }
   ],
   "source": [
    "# Let's take a look at some rows of our training data just so we know what it looks like\n",
    "print(train_x[2,:])\n",
    "print(train_y[0:20])"
   ]
  },
  {
   "cell_type": "code",
   "execution_count": null,
   "metadata": {},
   "outputs": [],
   "source": []
  },
  {
   "cell_type": "markdown",
   "metadata": {},
   "source": [
    "## [Task 1] (30 points) Let's tune hyperparameters! We will use scikit-learn in two ways to optimize hyperparameters of SVM: (1) grid search, (2) randomized search."
   ]
  },
  {
   "cell_type": "markdown",
   "metadata": {},
   "source": [
    "### [Task 1a] (10 points) Use GridSearchCV from scikit-learn to do a grid search for SVM hyperparameters. Note that this way will use cross-validation to find the best hyperparameters values and that we purposefully disable some warnings to avoid verbose output."
   ]
  },
  {
   "cell_type": "code",
   "execution_count": 8,
   "metadata": {},
   "outputs": [],
   "source": [
    "from sklearn.svm import LinearSVC, SVC\n",
    "from sklearn.model_selection import GridSearchCV\n",
    "\n",
    "param_grid = {'C':[0.1, 1, 5], 'penalty': ['l1', 'l2']}\n",
    "model = LinearSVC(max_iter=1000, dual=False)\n",
    "\n",
    "# We'll use this to avoid some annoying convergence warning \n",
    "# Note: don't just do that without thinking in your own projects, warnings are there for a reason folks!\n",
    "## (In this case, it's okay because it's for illustration, but obviously if the model doesn't converge in \n",
    "## some cases we may not find the true best hyperparams)\n",
    "from sklearn.utils._testing import ignore_warnings\n",
    "from sklearn.exceptions import ConvergenceWarning\n",
    "\n",
    "@ignore_warnings(category=ConvergenceWarning)\n",
    "def do_grid_search(model, param_grid):\n",
    "    \n",
    "    # use the GridSearchCV class of scikit-learn to do a grid search on the provided grid (use 'model')\n",
    "    # set accuracy as scoring function and return the output of fit() on the training data\n",
    "    \n",
    "    ###* put your code here (~2 lines) *###\n",
    "    gs = GridSearchCV(model, param_grid, scoring='accuracy')\n",
    "    return gs.fit(train_x, train_y)\n",
    "\n",
    "gs_res = do_grid_search(model, param_grid)"
   ]
  },
  {
   "cell_type": "markdown",
   "metadata": {},
   "source": [
    "### [Task 1b] (3 points) How many combination of hyperparameters were tested?"
   ]
  },
  {
   "cell_type": "code",
   "execution_count": 9,
   "metadata": {},
   "outputs": [],
   "source": [
    "###* put your answer as comment here *###\n",
    "#\n",
    "#\n",
    "# 6\n",
    "### we can check using: len(gs_res.cv_results_['params'])"
   ]
  },
  {
   "cell_type": "markdown",
   "metadata": {},
   "source": [
    "### [Task 1c] (2 points) What is the best combination of hyperparameters?"
   ]
  },
  {
   "cell_type": "code",
   "execution_count": 10,
   "metadata": {},
   "outputs": [
    {
     "name": "stdout",
     "output_type": "stream",
     "text": [
      "{'C': 0.1, 'penalty': 'l1'}\n"
     ]
    }
   ],
   "source": [
    "# Show the best combination of parameters found through the search \n",
    "# Hint: look at the documentation of GridSearchCV\n",
    "###* put your code here (~2 lines) *###\n",
    "# store this combination in 'gs_best_hyperparams' and print it\n",
    "gs_best_hyperparams = gs_res.best_params_\n",
    "print(gs_best_hyperparams)"
   ]
  },
  {
   "cell_type": "markdown",
   "metadata": {},
   "source": [
    "### [Task 1d] (10 points) Use RandomizedSearchCV to do a search! We'll use a halfnormal distribution from Scipy to find values for C."
   ]
  },
  {
   "cell_type": "code",
   "execution_count": 11,
   "metadata": {},
   "outputs": [],
   "source": [
    "from sklearn.model_selection import RandomizedSearchCV\n",
    "from scipy.stats import halfnorm\n",
    "\n",
    "param_dist = dict(C=halfnorm(loc=0, scale=4.0), penalty=['l1', 'l2'])\n",
    "model = LinearSVC(max_iter=1000, dual=False)\n",
    "\n",
    "# We'll use this to avoid some annoying convergence warning \n",
    "# Note: don't just do that in your own projects, warnings are there for a reason!\n",
    "from sklearn.utils._testing import ignore_warnings\n",
    "from sklearn.exceptions import ConvergenceWarning\n",
    "\n",
    "@ignore_warnings(category=ConvergenceWarning)\n",
    "def do_randomized_search(model, param_dist):\n",
    "    # use the RandomizedSearchCV class of scikit-learn to do a randomized search (use 'model')\n",
    "    # use accuracy as scoring function and return the result of fit() on the training data \n",
    "    # Also for reproducibility: set the random_state\n",
    "    \n",
    "    ###* put your code here (~2 lines) *###\n",
    "    rs = RandomizedSearchCV(model, param_dist, scoring='accuracy', random_state=seed)\n",
    "    return rs.fit(train_x, train_y)\n",
    "\n",
    "rs_res = do_randomized_search(model, param_dist)"
   ]
  },
  {
   "cell_type": "markdown",
   "metadata": {},
   "source": [
    "### [Task 1e] (1 points) What is the best combination of hyperparameters?"
   ]
  },
  {
   "cell_type": "code",
   "execution_count": 12,
   "metadata": {},
   "outputs": [
    {
     "data": {
      "text/plain": [
       "{'C': 1.2756087387575334, 'penalty': 'l1'}"
      ]
     },
     "execution_count": 12,
     "metadata": {},
     "output_type": "execute_result"
    }
   ],
   "source": [
    "# Show the best combination of parameters found through the randomized search \n",
    "###* put your code here (~1 line) *###\n",
    "rs_res.best_params_"
   ]
  },
  {
   "cell_type": "markdown",
   "metadata": {},
   "source": [
    "### [Task 1f] (4 points) What are the pros and cons of a randomized search? Explain your answer. (A few sentences is okay.)"
   ]
  },
  {
   "cell_type": "code",
   "execution_count": 13,
   "metadata": {},
   "outputs": [],
   "source": [
    "# what do you think are the pros and cons of a randomized search?\n",
    "###* put your answer as comment here *###\n",
    "#\n",
    "#\n",
    "#\n",
    "# Pros: it can discover hyperparameter values that you can't think of, in a way it's more principled to sample from a distribution\n",
    "# Cons: it requires making additional assumptions (about distributions, etc.). Also, because it's randomized, you may or may not get lucky...\n",
    "#"
   ]
  },
  {
   "cell_type": "code",
   "execution_count": null,
   "metadata": {},
   "outputs": [],
   "source": []
  },
  {
   "cell_type": "code",
   "execution_count": null,
   "metadata": {},
   "outputs": [],
   "source": []
  },
  {
   "cell_type": "markdown",
   "metadata": {},
   "source": [
    "## [Task 2] (10 points) Let's train the model and evaluate it!"
   ]
  },
  {
   "cell_type": "code",
   "execution_count": 14,
   "metadata": {},
   "outputs": [
    {
     "name": "stdout",
     "output_type": "stream",
     "text": [
      "LinearSVC(w/ best grid search hyperparams {'C': 0.1, 'penalty': 'l1'}): \n",
      "\t--- Training accuracy: 84.99%, Validation accuracy: 84.67%\n"
     ]
    }
   ],
   "source": [
    "# Evaluate the models\n",
    "# complete the function to calculate accuracy\n",
    "def model_accuracy(model, x, true_y):\n",
    "    ###* put your code here *###\n",
    "    pred = model.predict(x)\n",
    "    return np.sum(pred == true_y) / true_y.shape[0]\n",
    "\n",
    "def evaluate_model(name, model, train_x, train_y, val_x, val_y):\n",
    "    train_acc = model_accuracy(model, train_x, train_y)\n",
    "    val_acc = model_accuracy(model, val_x, val_y)\n",
    "    print('{}: \\n\\t--- Training accuracy: {:.2f}%, Validation accuracy: {:.2f}%'.format(name, train_acc*100, val_acc*100))\n",
    "    return\n",
    "\n",
    "###* put your code here (~1 line) *### \n",
    "### Train a LinearSVC using the best hyperparameters found during the grid search in Task 1\n",
    "### In addition you should also use: max_iter=10000, dual=False\n",
    "### Use the training data (train_x, train_y)\n",
    "### Hint: there is a way to pass the best hyperparameters object from Task 1b directly to the model object (i.e., without passing it one hyperparameter at a time)\n",
    "svm = LinearSVC(**gs_best_hyperparams, max_iter=10000, dual=False).fit(train_x, train_y)\n",
    "\n",
    "\n",
    "evaluate_model('LinearSVC(w/ best grid search hyperparams {})'.format(gs_best_hyperparams), \n",
    "               svm, train_x, train_y, val_x, val_y)"
   ]
  },
  {
   "cell_type": "code",
   "execution_count": null,
   "metadata": {},
   "outputs": [],
   "source": []
  },
  {
   "cell_type": "markdown",
   "metadata": {},
   "source": [
    "## [Task 3] (30 points) Manual Hyperparameter Optimization (i.e., without using scikit-learn's to do the search for us)!"
   ]
  },
  {
   "cell_type": "markdown",
   "metadata": {},
   "source": [
    "### [Task 3a] (10 points) Complete the code below to do a grid search manually. In this case you cannot use GridSearchCV, you must train and evaluate the model on each combination of hyperparameter values."
   ]
  },
  {
   "cell_type": "code",
   "execution_count": 15,
   "metadata": {},
   "outputs": [
    {
     "name": "stdout",
     "output_type": "stream",
     "text": [
      "Iter 0, hyperparams: {'metric': 'euclidean', 'n_neighbors': 1, 'weights': 'uniform'}\n",
      " \t-> train accuracy: 99.50%, val accuracy: 79.25%\n",
      "Iter 1, hyperparams: {'metric': 'euclidean', 'n_neighbors': 1, 'weights': 'distance'}\n",
      " \t-> train accuracy: 99.50%, val accuracy: 79.25%\n",
      "Iter 2, hyperparams: {'metric': 'euclidean', 'n_neighbors': 3, 'weights': 'uniform'}\n",
      " \t-> train accuracy: 89.68%, val accuracy: 81.55%\n",
      "Iter 3, hyperparams: {'metric': 'euclidean', 'n_neighbors': 3, 'weights': 'distance'}\n",
      " \t-> train accuracy: 99.52%, val accuracy: 80.80%\n",
      "Iter 4, hyperparams: {'metric': 'euclidean', 'n_neighbors': 5, 'weights': 'uniform'}\n",
      " \t-> train accuracy: 87.40%, val accuracy: 81.84%\n",
      "Iter 5, hyperparams: {'metric': 'euclidean', 'n_neighbors': 5, 'weights': 'distance'}\n",
      " \t-> train accuracy: 99.52%, val accuracy: 81.13%\n",
      "Iter 6, hyperparams: {'metric': 'euclidean', 'n_neighbors': 7, 'weights': 'uniform'}\n",
      " \t-> train accuracy: 87.00%, val accuracy: 82.11%\n",
      "Iter 7, hyperparams: {'metric': 'euclidean', 'n_neighbors': 7, 'weights': 'distance'}\n",
      " \t-> train accuracy: 99.52%, val accuracy: 81.38%\n",
      "Iter 8, hyperparams: {'metric': 'euclidean', 'n_neighbors': 11, 'weights': 'uniform'}\n",
      " \t-> train accuracy: 85.86%, val accuracy: 82.92%\n",
      "Iter 9, hyperparams: {'metric': 'euclidean', 'n_neighbors': 11, 'weights': 'distance'}\n",
      " \t-> train accuracy: 99.52%, val accuracy: 82.02%\n",
      "Iter 10, hyperparams: {'metric': 'euclidean', 'n_neighbors': 51, 'weights': 'uniform'}\n",
      " \t-> train accuracy: 84.14%, val accuracy: 82.84%\n",
      "Iter 11, hyperparams: {'metric': 'euclidean', 'n_neighbors': 51, 'weights': 'distance'}\n",
      " \t-> train accuracy: 99.52%, val accuracy: 82.59%\n",
      "Iter 12, hyperparams: {'metric': 'chebyshev', 'n_neighbors': 1, 'weights': 'uniform'}\n",
      " \t-> train accuracy: 99.14%, val accuracy: 71.13%\n",
      "Iter 13, hyperparams: {'metric': 'chebyshev', 'n_neighbors': 1, 'weights': 'distance'}\n",
      " \t-> train accuracy: 99.14%, val accuracy: 71.13%\n",
      "Iter 14, hyperparams: {'metric': 'chebyshev', 'n_neighbors': 3, 'weights': 'uniform'}\n",
      " \t-> train accuracy: 86.54%, val accuracy: 76.47%\n",
      "Iter 15, hyperparams: {'metric': 'chebyshev', 'n_neighbors': 3, 'weights': 'distance'}\n",
      " \t-> train accuracy: 99.16%, val accuracy: 76.24%\n",
      "Iter 16, hyperparams: {'metric': 'chebyshev', 'n_neighbors': 5, 'weights': 'uniform'}\n",
      " \t-> train accuracy: 86.78%, val accuracy: 80.54%\n",
      "Iter 17, hyperparams: {'metric': 'chebyshev', 'n_neighbors': 5, 'weights': 'distance'}\n",
      " \t-> train accuracy: 99.16%, val accuracy: 79.78%\n",
      "Iter 18, hyperparams: {'metric': 'chebyshev', 'n_neighbors': 7, 'weights': 'uniform'}\n",
      " \t-> train accuracy: 85.30%, val accuracy: 80.60%\n",
      "Iter 19, hyperparams: {'metric': 'chebyshev', 'n_neighbors': 7, 'weights': 'distance'}\n",
      " \t-> train accuracy: 99.16%, val accuracy: 79.96%\n",
      "Iter 20, hyperparams: {'metric': 'chebyshev', 'n_neighbors': 11, 'weights': 'uniform'}\n",
      " \t-> train accuracy: 84.54%, val accuracy: 81.11%\n",
      "Iter 21, hyperparams: {'metric': 'chebyshev', 'n_neighbors': 11, 'weights': 'distance'}\n",
      " \t-> train accuracy: 99.16%, val accuracy: 80.56%\n",
      "Iter 22, hyperparams: {'metric': 'chebyshev', 'n_neighbors': 51, 'weights': 'uniform'}\n",
      " \t-> train accuracy: 82.58%, val accuracy: 81.55%\n",
      "Iter 23, hyperparams: {'metric': 'chebyshev', 'n_neighbors': 51, 'weights': 'distance'}\n",
      " \t-> train accuracy: 99.16%, val accuracy: 81.29%\n"
     ]
    }
   ],
   "source": [
    "## we are allowed to use the following from scikit-learn\n",
    "from sklearn.model_selection import ParameterGrid \n",
    "from sklearn.metrics import accuracy_score\n",
    "from sklearn.neighbors import KNeighborsClassifier\n",
    "\n",
    "hyperparams_vals = {'weights': ['uniform', 'distance'],\n",
    "                    'metric': ['euclidean', 'chebyshev'],\n",
    "                    'n_neighbors': [1, 3, 5, 7, 11, 51]}\n",
    "\n",
    "grid = ParameterGrid(hyperparams_vals)\n",
    "\n",
    "trsub_size = 5000\n",
    "trsub_x = train_x[:trsub_size,:]\n",
    "trsub_y = train_y[:trsub_size]\n",
    "\n",
    "## iterate over the entire grid. In each case, train a KNN classifier with the given hyperparameters (on the training subset 'trsub')\n",
    "# and measure accuracy on both the training subset data and the validation data!\n",
    "# note: we use a subset of the training data to speed up the process a bit\n",
    "for i, hyperparams in enumerate(list(grid)):\n",
    "    \n",
    "    ###* put your code here  (~ 5 lines) *###\n",
    "    ### In each iteration of the loop you should train a KNeighborsClassifier using 'hyperparams' as hyperparameters\n",
    "    ### You should train the model on 'trsub_x' and 'trsub_y'!\n",
    "    ### Once your model is trained, compute the accuracy on trsub (training accuracy) and on val (validation accuracy) \n",
    "    ### store the results in 'train_acc' and 'val_acc' respectively\n",
    "    model = KNeighborsClassifier(**hyperparams).fit(trsub_x, trsub_y)\n",
    "\n",
    "    pred_y = model.predict(trsub_x)\n",
    "    train_acc = accuracy_score(trsub_y, pred_y)\n",
    "    \n",
    "    pred_y = model.predict(val_x)\n",
    "    val_acc = accuracy_score(val_y, pred_y)\n",
    "    \n",
    "    ## This will print information about the grid search as it progresses\n",
    "    print('Iter {}, hyperparams: {}\\n \\t-> train accuracy: {:.2f}%, val accuracy: {:.2f}%'.\n",
    "              format(i, hyperparams, 100*train_acc, 100*val_acc))"
   ]
  },
  {
   "cell_type": "markdown",
   "metadata": {},
   "source": [
    "### [Task 3b] (5 points) Answer the following questions. (A few sentences is fine.)\n",
    "### What combination of hyperparameters would you use and why? Is the training accuracy useful when doing hyperparameter tuning? Why or why not?"
   ]
  },
  {
   "cell_type": "code",
   "execution_count": 16,
   "metadata": {},
   "outputs": [],
   "source": [
    "# What combination of hyperparameters would you use and why?\n",
    "###* put your answer as comment here *###\n",
    "#\n",
    "#\n",
    "# Iter 10, hyperparams: {'metric': 'euclidean', 'n_neighbors': 51, 'weights': 'uniform'}\n",
    "#    -> train accuracy: 84.14%, val accuracy: 82.84%\n",
    "# This avoids overfitting badly but also gives us decent validation accuracy.            "
   ]
  },
  {
   "cell_type": "code",
   "execution_count": 17,
   "metadata": {},
   "outputs": [],
   "source": [
    "# Is the training accuracy useful when doing hyperparameter tuning? Why or why not?\n",
    "###* put your answer as comment here *###\n",
    "#\n",
    "# \n",
    "# Yes, absolutely. We care most about the validation accuracy\n",
    "# (since ML is about making accurate out-of-sample predictions), but\n",
    "# everything else being equal we don't want a model that badly overfits!"
   ]
  },
  {
   "cell_type": "markdown",
   "metadata": {},
   "source": [
    "### [Task 3d] (10 points) Answer the following questions. (A few sentences is fine.)\n",
    "### Observe what happens when weights changes from 'uniform' to 'distance'? Provide a plausible explanation for this."
   ]
  },
  {
   "cell_type": "code",
   "execution_count": 18,
   "metadata": {},
   "outputs": [],
   "source": [
    "# What do you observe in terms of the training and validation accuracies when the weights change from 'uniform' to \n",
    "# 'distance'?\n",
    "###* put your answer as comment here *###\n",
    "#\n",
    "#\n",
    "# 'uniform' doesn't overfit as much as 'distance'\n",
    "\n",
    "\n",
    "## provide a plausible explanation for this phenomenon.\n",
    "###* put your answer as comment here *###\n",
    "#\n",
    "#\n",
    "# This makes sense because all the neighbors are given an equal vote for 'uniform'\n",
    "# as opposed to a vote based on their distance (for 'distance')!\n",
    "\n",
    "\n",
    "## If you were to train a KNN model would you set weights to 'uniform' or 'distance'? Why?\n",
    "###* put your answer as comment here *###\n",
    "#\n",
    "#\n",
    "# The pragmatic answer would be it depends; if 'uniform' and 'distance' give about the same validation accuracy\n",
    "# then it would make sense to use 'uniform' to avoid overfitting. If 'uniform' causes us to underfit and have much\n",
    "# lower validation accuracy, then we would pick 'distance' even if it might overfit\n",
    "# (The reason is that ML is about making accurate out-of-sample predictions, not overfitting is nice but not as important)\n",
    "#"
   ]
  },
  {
   "cell_type": "markdown",
   "metadata": {},
   "source": [
    "### [Task 3e] (5 points) Which hyperparameters (if any) have a significant impact on overfitting and why?"
   ]
  },
  {
   "cell_type": "code",
   "execution_count": 19,
   "metadata": {},
   "outputs": [],
   "source": [
    "### According to the grid search you just performed, which hyperparameters seem to have significant impact on overfitting and why.\n",
    "## Explain your reasoning and justify your answer!\n",
    "###* put your answer as comment here *###\n",
    "#\n",
    "#\n",
    "# 'n_neighbors' and 'weights' which makes sense. \n",
    "# 'metric' does not seem to impact overfitting (though it clearly impact prediction accuracy)!\n",
    "#"
   ]
  },
  {
   "cell_type": "code",
   "execution_count": null,
   "metadata": {},
   "outputs": [],
   "source": []
  },
  {
   "cell_type": "markdown",
   "metadata": {},
   "source": [
    "## [Task 4] (30 points) Exploring Bias & Variance, Underfitting & Overfitting"
   ]
  },
  {
   "cell_type": "markdown",
   "metadata": {},
   "source": [
    "### For this task, you *must* only use models (kNN or SVM) and hyperparameters that we have seen/used somewhere in this assignment!"
   ]
  },
  {
   "cell_type": "markdown",
   "metadata": {},
   "source": [
    "### [Task 4a] (5 points) What is the irreducible error for this prediction task (income >=50k or <50k on Adult data)? Explain your reasoning."
   ]
  },
  {
   "cell_type": "code",
   "execution_count": 20,
   "metadata": {},
   "outputs": [],
   "source": [
    "###* put your answer as comment here *###\n",
    "#\n",
    "#\n",
    "# We don't know. In general we cannot know the irreducible error.\n",
    "# However, in this case we have seen that we can train a model (SVM) with about 85% val accuracy. So we know that the\n",
    "# irreducible error cannot be more than 15% (measured as 1-accuracy), but again we have no way to know the exact value!\n",
    "#\n",
    "# In fact, I have never seen better results on Adult than around 86% or 87% (on a neural network).\n",
    "# This suggests that irredicible error is probably around 12-13%...\n",
    "# But maybe there exists a model & combination of hyperparameters we haven't tried that achieves 99% test accuracy!"
   ]
  },
  {
   "cell_type": "code",
   "execution_count": null,
   "metadata": {},
   "outputs": [],
   "source": []
  },
  {
   "cell_type": "markdown",
   "metadata": {},
   "source": [
    "### For the rest of Task 4, we will assume that irreducible error (in the scale 1 - accuracy) is about 15%"
   ]
  },
  {
   "cell_type": "markdown",
   "metadata": {},
   "source": [
    "### [Task 4b] (5 points) Train a high bias, low variance model. Show *and* explain why the model has high bias and low variance!"
   ]
  },
  {
   "cell_type": "code",
   "execution_count": 21,
   "metadata": {},
   "outputs": [
    {
     "name": "stdout",
     "output_type": "stream",
     "text": [
      "High bias, low variance: \n",
      "\t--- Training accuracy: 75.39%, Validation accuracy: 74.19%\n"
     ]
    }
   ],
   "source": [
    "###* Put your code here *###\n",
    "model = SVC(C=0.00001, kernel='linear').fit(train_x, train_y)\n",
    "\n",
    "evaluate_model('High bias, low variance', model, train_x, train_y, val_x, val_y)\n",
    "\n",
    "###* put your answer as comment here *###\n",
    "#\n",
    "#\n",
    "# This model has high bias because it assumes linear decision boundary and further constraints \n",
    "# the model by having a very low C (regularization constant) which means the model is too highly regularized\n",
    "# The training accuracy is only 75% which is 10% lower than the best we could get under our assumption that irreducible error is 15%\n",
    "# We can also see that there is only a small difference between validation accuracy and training accuracy (which indicates low variance)."
   ]
  },
  {
   "cell_type": "markdown",
   "metadata": {},
   "source": [
    "### [Task 4c] (5 points) Train a low bias, high variance model. Show *and* explain why the model has low bias and high variance!"
   ]
  },
  {
   "cell_type": "code",
   "execution_count": 22,
   "metadata": {},
   "outputs": [
    {
     "name": "stdout",
     "output_type": "stream",
     "text": [
      "Low bias, high variance: \n",
      "\t--- Training accuracy: 98.26%, Validation accuracy: 80.18%\n"
     ]
    }
   ],
   "source": [
    "###* Put your code here *###\n",
    "model = KNeighborsClassifier(n_neighbors=1).fit(train_x, train_y)\n",
    "\n",
    "evaluate_model('Low bias, high variance', model, train_x, train_y, val_x, val_y)\n",
    "\n",
    "###* put your answer as comment here *###\n",
    "#\n",
    "#\n",
    "# This model has low bias because it's a kNN with k=1 so it can basically capture whatever complexity in the relationship between features and label.\n",
    "# It has 98%+ training accuracy but a much lower validation accuracy. This indicates high variance.\n",
    "# Intutively the lower k is the lower the bias, but also the lower k is the higher the variance.\n",
    "# \n",
    "# Note: there is an exact derivation of the bias-variance tradeoff for kNN and it shows\n",
    "# that bias increases (monotonically) as k increases, and that variance decreases (monotonically) as k increases!"
   ]
  },
  {
   "cell_type": "markdown",
   "metadata": {},
   "source": [
    "### [Task 4d] (5 points) Train a low bias, low variance model. Show *and* explain why the model has low bias and low variance!"
   ]
  },
  {
   "cell_type": "code",
   "execution_count": 23,
   "metadata": {},
   "outputs": [
    {
     "name": "stdout",
     "output_type": "stream",
     "text": [
      "Low bias, low variance: \n",
      "\t--- Training accuracy: 84.95%, Validation accuracy: 84.36%\n"
     ]
    }
   ],
   "source": [
    "###* Put your code here *###\n",
    "model = SVC(C=0.01, kernel='linear').fit(train_x, train_y)\n",
    "\n",
    "evaluate_model('Low bias, low variance', model, train_x, train_y, val_x, val_y)\n",
    "\n",
    "###* put your answer as comment here *###\n",
    "#\n",
    "#\n",
    "#\n",
    "# This is very similar to what we used for Task 4b but the regularization constant is 100 times larger. \n",
    "# So it is still low variance (and this can seen by observing the training accuracy)\n",
    "# However, in this case one could argue that it's low bias because even though the model complexity is rather low \n",
    "# (it's assuming a linear decision boundary) it achieves closes to the maximum accuracy possible \n",
    "# given our assumption of an irreducible error around 15%."
   ]
  },
  {
   "cell_type": "markdown",
   "metadata": {},
   "source": [
    "### [Task 4e] (5 points) Can you train a high bias, high variance model. If so how? If not why not?"
   ]
  },
  {
   "cell_type": "code",
   "execution_count": 24,
   "metadata": {},
   "outputs": [],
   "source": [
    "###* put your answer as comment here *###\n",
    "#\n",
    "#\n",
    "# That's difficult given the constraint of using models/hyperparameters we have used in this assignment\n",
    "# If we use kNN we could have high variance by setting a low k but then we'd necessarily have low bias\n",
    "# If we use SVM it's hard to get high variance even if we set C to be very large \n",
    "# and even then we don't necessarily get high bias...\n",
    "#"
   ]
  },
  {
   "cell_type": "markdown",
   "metadata": {},
   "source": [
    "### [Task 4f] (5 points) Train a badly *underfitted* model. The accuracy should be below 55%!"
   ]
  },
  {
   "cell_type": "code",
   "execution_count": 25,
   "metadata": {},
   "outputs": [
    {
     "name": "stdout",
     "output_type": "stream",
     "text": [
      "Badly underfitted: \n",
      "\t--- Training accuracy: 40.62%, Validation accuracy: 27.78%\n"
     ]
    },
    {
     "name": "stderr",
     "output_type": "stream",
     "text": [
      "/home/vbindsch/.local/lib/python3.8/site-packages/sklearn/svm/_base.py:255: ConvergenceWarning: Solver terminated early (max_iter=1).  Consider pre-processing your data with StandardScaler or MinMaxScaler.\n",
      "  warnings.warn('Solver terminated early (max_iter=%i).'\n"
     ]
    }
   ],
   "source": [
    "###* Put your code here *###\n",
    "sz = 32\n",
    "model = SVC(C=1000, kernel='linear', max_iter=1).fit(train_x[:sz], train_y[:sz])\n",
    "\n",
    "evaluate_model('Badly underfitted', model, train_x[:sz], train_y[:sz], val_x, val_y)\n",
    "\n",
    "###\n",
    "### the key idea here is that if we train a very little data and we stop the training way too early (using max_iter)\n",
    "### then we'll underfit for sure!"
   ]
  },
  {
   "cell_type": "code",
   "execution_count": null,
   "metadata": {},
   "outputs": [],
   "source": []
  },
  {
   "cell_type": "markdown",
   "metadata": {},
   "source": [
    "## [CIS6930 Additional Task -- Task 5] (25 points): Variance, Overfitting, Agreement Rate"
   ]
  },
  {
   "cell_type": "markdown",
   "metadata": {},
   "source": [
    "### Suppose we have two models and want to compare them and instead of comparing them in terms of how good the models are, we care about whether the models have learned a similar relationship between features and label? One way we can measure this is using agreement rate: we use both models to make predictions on a separate dataset and then measure what proportion of those predictions are identical.\n",
    "\n",
    "### Variance is the tendency to learn non-existing/wrong relationships between features and labels based on the idiosyncracies of the training data. So intuitively, if two models are trained on disjoint but randomly selected subsets of the training data, then if the variance is high the agreement rate between the two models should be low. So, we can try to measure variance by measuring agreement rate. But does this work? This is what you will explore experimentally in this task. (Note that overfitting and variance are related but are not the same thing.)"
   ]
  },
  {
   "cell_type": "markdown",
   "metadata": {},
   "source": [
    "### [Task 5a] (5 points) Implement an overfitting measure and the agreement rate metric."
   ]
  },
  {
   "cell_type": "code",
   "execution_count": 26,
   "metadata": {},
   "outputs": [],
   "source": [
    "### We'll define two metrics, one for overfitting and the other for agreement rate\n",
    "\n",
    "## for this assignment we define overfitting measure as the max between 0 and \n",
    "## the difference between training accuracy and validation accuracy\n",
    "def overfitting_measure(train_acc, val_acc):\n",
    "    ###* put your code here (~1 line) *###\n",
    "    ### your code should return the maxmimum between: 0 and training accuracy - validation accuracy\n",
    "    return np.maximum(0, train_acc - val_acc)\n",
    "\n",
    "\n",
    "## the agreement rate is the proportion of identical prediction of both models on a separate dataset\n",
    "## note: we don't care if the predictions are correct, we only care how often they are the same!\n",
    "def agreement_rate(m1_preds, m2_preds):\n",
    "    assert m1_preds.shape == m2_preds.shape\n",
    "    \n",
    "    ###* put your code here (~1 line) *###\n",
    "    ### your code should return the proportion of identical predictions in m1_preds and m2_preds\n",
    "    ### note: the agreement rate is a value in [0, 1] so make sure your code returns values in the same range!\n",
    "    return np.sum(m1_preds == m2_preds) / m1_preds.shape[0]"
   ]
  },
  {
   "cell_type": "code",
   "execution_count": 27,
   "metadata": {},
   "outputs": [],
   "source": [
    "from sklearn.base import clone\n",
    "\n",
    "def eval_accuracy(model, train_x, train_y, val_x, val_y):\n",
    "    train_acc = model_accuracy(model, train_x, train_y)\n",
    "    val_acc = model_accuracy(model, val_x, val_y)\n",
    "    \n",
    "    return train_acc, val_acc\n",
    "\n",
    "def measure_overfitting_agreement(model, train_x, train_y, trsz, val_x, val_y):\n",
    "    m1 = clone(model)\n",
    "    m2 = clone(model)\n",
    "    \n",
    "    n = train_x.shape[0]\n",
    "    assert n/2 >= trsz and trsz > 0\n",
    "    \n",
    "    rng = np.random.default_rng()\n",
    "    pi = rng.permutation(n)\n",
    "    pi1 = pi[0:trsz]\n",
    "    pi2 = pi[trsz:2*trsz]\n",
    "    \n",
    "    m1.fit(train_x[pi1], train_y[pi1])\n",
    "    m2.fit(train_x[pi2], train_y[pi2])\n",
    "    \n",
    "    train_acc, val_acc = eval_accuracy(m1, train_x[pi1], train_y[pi1], val_x, val_y)\n",
    "    m1_overfit =  overfitting_measure(train_acc, val_acc)\n",
    "    \n",
    "    train_acc, val_acc = eval_accuracy(m2, train_x[pi2], train_y[pi2], val_x, val_y)\n",
    "    m2_overfit =  overfitting_measure(train_acc, val_acc)\n",
    "    \n",
    "    m1_val_pred = m1.predict(val_x)\n",
    "    m2_val_pred = m2.predict(val_x)\n",
    "    \n",
    "    agr = agreement_rate(m1_val_pred, m2_val_pred)\n",
    "    \n",
    "    # for this task, we'll define our our overfitting measure as \n",
    "    # the average of the overfitting measure of the two models\n",
    "    overfit = (m1_overfit + m2_overfit)/2.0 \n",
    "    \n",
    "    return overfit, agr"
   ]
  },
  {
   "cell_type": "markdown",
   "metadata": {},
   "source": [
    "### [Task 5b] (10 points) Train SVM models on random subsets of the data with different C (regularization constant) and two different size for the training data. In each case, use measure_overfitting_agreement() defined above to train the models and compute overfitting and agreement."
   ]
  },
  {
   "cell_type": "code",
   "execution_count": 28,
   "metadata": {},
   "outputs": [],
   "source": [
    "Cs = np.logspace(-2,3,200)\n",
    "training_sizes = [100, 200]\n",
    "\n",
    "###* put your code here *###\n",
    "### your code should use 'SVC(C=<value from Cs>, kernel='linear')' as model instances\n",
    "### You should invoke measure_overfitting_agreement() to get the agreement rate and overfitting measure (do this for all Cs and both training sizes)\n",
    "### and store the results in some array(s) of your choice so that you can plot this for Task 5c\n",
    "\n",
    "xy2 = np.zeros((Cs.shape[0] * len(training_sizes), 2))\n",
    "j = 0\n",
    "for k, train_sz in enumerate(training_sizes):\n",
    "    for i, C in enumerate(Cs):\n",
    "\n",
    "        model = SVC(C=C, kernel='linear')\n",
    "        overfit, agr = measure_overfitting_agreement(model, train_x, train_y, train_sz, val_x, val_y)\n",
    "\n",
    "        xy2[j,:] = [overfit, agr]\n",
    "        j += 1"
   ]
  },
  {
   "cell_type": "markdown",
   "metadata": {},
   "source": [
    "### [Task 5c] (5 points) Plot overfitting vs disagreement rate as a scatter plot for both training sizes"
   ]
  },
  {
   "cell_type": "code",
   "execution_count": 29,
   "metadata": {},
   "outputs": [
    {
     "data": {
      "image/png": "[encoded data removed]",
      "text/plain": [
       "<Figure size 1008x576 with 1 Axes>"
      ]
     },
     "metadata": {
      "needs_background": "light"
     },
     "output_type": "display_data"
    }
   ],
   "source": [
    "### Use matplotlib and supplement the provided code so it produces a single scatter plot of the two training set sizes\n",
    "### with overfitting on the x-axis and *disagreement* (i.e., 1 - agreement rate) on the y-axis.\n",
    "fig, ax = plt.subplots(figsize=(14,8))\n",
    "\n",
    "###* put your code here (~2 lines) *###\n",
    "### Invoke plt.scatter() first for Training Set Size: 100 with blue circle marker.\n",
    "### Invoke plt.scatter() first for Training Set Size: 200 with red square marker.\n",
    "plt.scatter(xy2[:Cs.shape[0],0], 1-xy2[:Cs.shape[0],1], c='b', marker='o', edgecolor='k', alpha=0.5, label='Training Set Size: {}'.format(training_sizes[0]))\n",
    "plt.scatter(xy2[Cs.shape[0]:,0], 1-xy2[Cs.shape[0]:,1], c='r', marker='s', edgecolor='k', alpha=0.5, label='Training Set Size: {}'.format(training_sizes[1]))\n",
    "\n",
    "## sets the axis labels, limits, etc.\n",
    "plt.xlabel('Overfitting Measure')\n",
    "plt.ylabel('Disagreement Rate (1 - Agreement Rate)')\n",
    "plt.xlim([-0.02, 0.3])\n",
    "plt.ylim([-0.02, 0.45])\n",
    "\n",
    "plt.legend(loc='upper left')\n",
    "plt.show()"
   ]
  },
  {
   "cell_type": "markdown",
   "metadata": {},
   "source": [
    "### [Task 5d] (5 points) What do you conclude?"
   ]
  },
  {
   "cell_type": "code",
   "execution_count": 30,
   "metadata": {},
   "outputs": [
    {
     "name": "stdout",
     "output_type": "stream",
     "text": [
      "Correlation coef: 0.8189\n",
      "Correlation coef: 0.8263\n"
     ]
    }
   ],
   "source": [
    "# What do you conclude? Is agreement rate a possible way to measure overfitting? Can it be used to measure variance?\n",
    "# Describe your general observation of the correlation between these measures.\n",
    "# Hint: there is no single 'right' answer here, but there are many wrong answers!\n",
    "###* put your answer as comment here *###\n",
    "#\n",
    "#\n",
    "#\n",
    "# We see that there is definitely a strong positive linear correlation between our overfitting measure and the disagreement rate.\n",
    "# However, the relationship isn't perfect correlation. The relationship is stronger for training size 100 (as expected perhaps as it overfits more!)\n",
    "# Also, it's not clear that this relationship would hold for other models or for SVM but with different hyperparameter values...\n",
    "# So yes: it could potentially be a way to measure overfitting/variance, but we do not have enough experimental data to make any strong conclusions yet.\n",
    "#\n",
    "\n",
    "# the code below shows the correlation\n",
    "mxy = xy2.copy()\n",
    "mxy[:,1] = 1.0 - mxy[:,1]\n",
    "print('Correlation coef: {:.4f}'.format(np.corrcoef(mxy[:Cs.shape[0]], rowvar=False)[0,1]))\n",
    "print('Correlation coef: {:.4f}'.format(np.corrcoef(mxy[Cs.shape[0]:], rowvar=False)[0,1]))"
   ]
  },
  {
   "cell_type": "code",
   "execution_count": null,
   "metadata": {},
   "outputs": [],
   "source": []
  },
  {
   "cell_type": "code",
   "execution_count": null,
   "metadata": {},
   "outputs": [],
   "source": []
  },
  {
   "cell_type": "code",
   "execution_count": null,
   "metadata": {},
   "outputs": [],
   "source": []
  },
  {
   "cell_type": "code",
   "execution_count": null,
   "metadata": {},
   "outputs": [],
   "source": []
  }
 ],
 "metadata": {
  "kernelspec": {
   "display_name": "Python 3",
   "language": "python",
   "name": "python3"
  },
  "language_info": {
   "codemirror_mode": {
    "name": "ipython",
    "version": 3
   },
   "file_extension": ".py",
   "mimetype": "text/x-python",
   "name": "python",
   "nbconvert_exporter": "python",
   "pygments_lexer": "ipython3",
   "version": "3.8.5"
  }
 },
 "nbformat": 4,
 "nbformat_minor": 2
}
