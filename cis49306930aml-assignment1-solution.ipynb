{
 "cells": [
  {
   "cell_type": "markdown",
   "metadata": {},
   "source": [
    "# Assignment 1: ML Engineering 1"
   ]
  },
  {
   "cell_type": "code",
   "execution_count": 2,
   "metadata": {},
   "outputs": [],
   "source": [
    "# enter your name and UFL email address\n",
    "name = 'enter your name'\n",
    "email = 'enter your email'\n",
    "\n",
    "name = 'solution' # ###- \n",
    "email = 'solution' # ###- "
   ]
  },
  {
   "cell_type": "code",
   "execution_count": 20,
   "metadata": {},
   "outputs": [
    {
     "name": "stdout",
     "output_type": "stream",
     "text": [
      "Assignment 1 -- name: solution, email: solution\n",
      "\n",
      "### Python version: 3.8.5 (default, Jul 28 2020, 12:59:40) \n",
      "[GCC 9.3.0]\n",
      "### TF version: 2.4.0\n",
      "### Keras version: 2.4.0\n",
      "------------\n"
     ]
    }
   ],
   "source": [
    "if name == 'enter your name' or email == 'enter your email':\n",
    "    assert False, 'Enter your name & email first!'\n",
    "else:\n",
    "    print('Assignment 1 -- name: {}, email: {}\\n'.format(name, email))\n",
    "    \n",
    "    # Load packages we need\n",
    "    import sys\n",
    "    import os\n",
    "    import time\n",
    "    import tempfile \n",
    "\n",
    "    import numpy as np\n",
    "    import pandas as pd\n",
    "\n",
    "    from matplotlib import pyplot as plt\n",
    "    plt.rcParams.update({'font.size': 16})\n",
    "\n",
    "    import tensorflow as tf\n",
    "\n",
    "\n",
    "    # Let's check our software versions\n",
    "    print('### Python version: ' + __import__('sys').version)\n",
    "    print('### TF version: ' + tf.__version__)\n",
    "    print('### Keras version: ' + tf.keras.__version__)\n",
    "    print('------------')\n",
    "\n",
    "\n",
    "    # load our packages / code\n",
    "    sys.path.insert(1, '../common/')\n",
    "    import utils\n",
    "    import plots"
   ]
  },
  {
   "cell_type": "code",
   "execution_count": 21,
   "metadata": {},
   "outputs": [],
   "source": [
    "# global parameters to control behavior of the pre-processing, ML, analysis, etc.\n",
    "seed = 17\n",
    "\n",
    "# deterministic seed for reproducibility\n",
    "##rng = np.random.default_rng(seed)  # best practice but not fully implemented in scikit-learn\n",
    "np.random.seed(seed)"
   ]
  },
  {
   "cell_type": "markdown",
   "metadata": {},
   "source": [
    "## Part 1: Loading and Pre-processing Data"
   ]
  },
  {
   "cell_type": "markdown",
   "metadata": {},
   "source": [
    "### Loading data"
   ]
  },
  {
   "cell_type": "code",
   "execution_count": 22,
   "metadata": {},
   "outputs": [],
   "source": [
    "# Use pandas to load the data from compressed CSV\n",
    "df1 = pd.read_csv('../data/adult.data.gz', compression='gzip', header=0, na_values='?', sep=' *, *', skipinitialspace=True, engine='python')\n",
    "df2 = pd.read_csv('../data/adult.test.gz', compression='gzip', header=0, na_values='?',sep=' *, *', skipinitialspace=True, engine='python')"
   ]
  },
  {
   "cell_type": "code",
   "execution_count": 23,
   "metadata": {},
   "outputs": [],
   "source": [
    "# Check that we loaded the data as expected\n",
    "df1_expected_shape = (32561,15)\n",
    "df2_expected_shape = (16281,15)\n",
    "\n",
    "assert df1.shape == df1_expected_shape, 'Unexpected shape of df1!'\n",
    "assert df2.shape == df2_expected_shape, 'Unexpected shape of df2!'"
   ]
  },
  {
   "cell_type": "code",
   "execution_count": 24,
   "metadata": {},
   "outputs": [],
   "source": [
    "# Merge df1 and df2 for pre-processing and cleaning\n",
    "dfraw = df1.append(df2, ignore_index=True, sort=False)\n",
    "assert dfraw.shape == (df1_expected_shape[0]+df2_expected_shape[0],15)"
   ]
  },
  {
   "cell_type": "code",
   "execution_count": 25,
   "metadata": {},
   "outputs": [
    {
     "name": "stdout",
     "output_type": "stream",
     "text": [
      "<class 'pandas.core.frame.DataFrame'>\n",
      "RangeIndex: 48842 entries, 0 to 48841\n",
      "Data columns (total 15 columns):\n",
      " #   Column          Non-Null Count  Dtype \n",
      "---  ------          --------------  ----- \n",
      " 0   age             48842 non-null  int64 \n",
      " 1   workclass       46043 non-null  object\n",
      " 2   fnlwgt          48842 non-null  int64 \n",
      " 3   education       48842 non-null  object\n",
      " 4   education-num   48842 non-null  int64 \n",
      " 5   marital-status  48842 non-null  object\n",
      " 6   occupation      46033 non-null  object\n",
      " 7   relationship    48842 non-null  object\n",
      " 8   race            48842 non-null  object\n",
      " 9   sex             48842 non-null  object\n",
      " 10  capital-gain    48842 non-null  int64 \n",
      " 11  capital-loss    48842 non-null  int64 \n",
      " 12  hours-per-week  48842 non-null  int64 \n",
      " 13  native-country  47985 non-null  object\n",
      " 14  income          48842 non-null  object\n",
      "dtypes: int64(6), object(9)\n",
      "memory usage: 5.6+ MB\n"
     ]
    }
   ],
   "source": [
    "dfraw.info()"
   ]
  },
  {
   "cell_type": "code",
   "execution_count": 26,
   "metadata": {},
   "outputs": [
    {
     "data": {
      "text/html": [
       "<div>\n",
       "<style scoped>\n",
       "    .dataframe tbody tr th:only-of-type {\n",
       "        vertical-align: middle;\n",
       "    }\n",
       "\n",
       "    .dataframe tbody tr th {\n",
       "        vertical-align: top;\n",
       "    }\n",
       "\n",
       "    .dataframe thead th {\n",
       "        text-align: right;\n",
       "    }\n",
       "</style>\n",
       "<table border=\"1\" class=\"dataframe\">\n",
       "  <thead>\n",
       "    <tr style=\"text-align: right;\">\n",
       "      <th></th>\n",
       "      <th>age</th>\n",
       "      <th>workclass</th>\n",
       "      <th>fnlwgt</th>\n",
       "      <th>education</th>\n",
       "      <th>education-num</th>\n",
       "      <th>marital-status</th>\n",
       "      <th>occupation</th>\n",
       "      <th>relationship</th>\n",
       "      <th>race</th>\n",
       "      <th>sex</th>\n",
       "      <th>capital-gain</th>\n",
       "      <th>capital-loss</th>\n",
       "      <th>hours-per-week</th>\n",
       "      <th>native-country</th>\n",
       "      <th>income</th>\n",
       "    </tr>\n",
       "  </thead>\n",
       "  <tbody>\n",
       "    <tr>\n",
       "      <th>0</th>\n",
       "      <td>39</td>\n",
       "      <td>State-gov</td>\n",
       "      <td>77516</td>\n",
       "      <td>Bachelors</td>\n",
       "      <td>13</td>\n",
       "      <td>Never-married</td>\n",
       "      <td>Adm-clerical</td>\n",
       "      <td>Not-in-family</td>\n",
       "      <td>White</td>\n",
       "      <td>Male</td>\n",
       "      <td>2174</td>\n",
       "      <td>0</td>\n",
       "      <td>40</td>\n",
       "      <td>United-States</td>\n",
       "      <td>&lt;=50K</td>\n",
       "    </tr>\n",
       "    <tr>\n",
       "      <th>1</th>\n",
       "      <td>50</td>\n",
       "      <td>Self-emp-not-inc</td>\n",
       "      <td>83311</td>\n",
       "      <td>Bachelors</td>\n",
       "      <td>13</td>\n",
       "      <td>Married-civ-spouse</td>\n",
       "      <td>Exec-managerial</td>\n",
       "      <td>Husband</td>\n",
       "      <td>White</td>\n",
       "      <td>Male</td>\n",
       "      <td>0</td>\n",
       "      <td>0</td>\n",
       "      <td>13</td>\n",
       "      <td>United-States</td>\n",
       "      <td>&lt;=50K</td>\n",
       "    </tr>\n",
       "    <tr>\n",
       "      <th>2</th>\n",
       "      <td>38</td>\n",
       "      <td>Private</td>\n",
       "      <td>215646</td>\n",
       "      <td>HS-grad</td>\n",
       "      <td>9</td>\n",
       "      <td>Divorced</td>\n",
       "      <td>Handlers-cleaners</td>\n",
       "      <td>Not-in-family</td>\n",
       "      <td>White</td>\n",
       "      <td>Male</td>\n",
       "      <td>0</td>\n",
       "      <td>0</td>\n",
       "      <td>40</td>\n",
       "      <td>United-States</td>\n",
       "      <td>&lt;=50K</td>\n",
       "    </tr>\n",
       "    <tr>\n",
       "      <th>3</th>\n",
       "      <td>53</td>\n",
       "      <td>Private</td>\n",
       "      <td>234721</td>\n",
       "      <td>11th</td>\n",
       "      <td>7</td>\n",
       "      <td>Married-civ-spouse</td>\n",
       "      <td>Handlers-cleaners</td>\n",
       "      <td>Husband</td>\n",
       "      <td>Black</td>\n",
       "      <td>Male</td>\n",
       "      <td>0</td>\n",
       "      <td>0</td>\n",
       "      <td>40</td>\n",
       "      <td>United-States</td>\n",
       "      <td>&lt;=50K</td>\n",
       "    </tr>\n",
       "    <tr>\n",
       "      <th>4</th>\n",
       "      <td>28</td>\n",
       "      <td>Private</td>\n",
       "      <td>338409</td>\n",
       "      <td>Bachelors</td>\n",
       "      <td>13</td>\n",
       "      <td>Married-civ-spouse</td>\n",
       "      <td>Prof-specialty</td>\n",
       "      <td>Wife</td>\n",
       "      <td>Black</td>\n",
       "      <td>Female</td>\n",
       "      <td>0</td>\n",
       "      <td>0</td>\n",
       "      <td>40</td>\n",
       "      <td>Cuba</td>\n",
       "      <td>&lt;=50K</td>\n",
       "    </tr>\n",
       "  </tbody>\n",
       "</table>\n",
       "</div>"
      ],
      "text/plain": [
       "   age         workclass  fnlwgt  education  education-num  \\\n",
       "0   39         State-gov   77516  Bachelors             13   \n",
       "1   50  Self-emp-not-inc   83311  Bachelors             13   \n",
       "2   38           Private  215646    HS-grad              9   \n",
       "3   53           Private  234721       11th              7   \n",
       "4   28           Private  338409  Bachelors             13   \n",
       "\n",
       "       marital-status         occupation   relationship   race     sex  \\\n",
       "0       Never-married       Adm-clerical  Not-in-family  White    Male   \n",
       "1  Married-civ-spouse    Exec-managerial        Husband  White    Male   \n",
       "2            Divorced  Handlers-cleaners  Not-in-family  White    Male   \n",
       "3  Married-civ-spouse  Handlers-cleaners        Husband  Black    Male   \n",
       "4  Married-civ-spouse     Prof-specialty           Wife  Black  Female   \n",
       "\n",
       "   capital-gain  capital-loss  hours-per-week native-country income  \n",
       "0          2174             0              40  United-States  <=50K  \n",
       "1             0             0              13  United-States  <=50K  \n",
       "2             0             0              40  United-States  <=50K  \n",
       "3             0             0              40  United-States  <=50K  \n",
       "4             0             0              40           Cuba  <=50K  "
      ]
     },
     "execution_count": 26,
     "metadata": {},
     "output_type": "execute_result"
    }
   ],
   "source": [
    "# Let's look at a few rows of our dataframe\n",
    "dfraw.head()"
   ]
  },
  {
   "cell_type": "markdown",
   "metadata": {},
   "source": [
    "### Cleaning & pre-processing data"
   ]
  },
  {
   "cell_type": "code",
   "execution_count": 27,
   "metadata": {},
   "outputs": [
    {
     "data": {
      "text/plain": [
       "Index(['age', 'workclass', 'fnlwgt', 'education', 'education-num',\n",
       "       'marital-status', 'occupation', 'relationship', 'race', 'sex',\n",
       "       'capital-gain', 'capital-loss', 'hours-per-week', 'native-country',\n",
       "       'income'],\n",
       "      dtype='object')"
      ]
     },
     "execution_count": 27,
     "metadata": {},
     "output_type": "execute_result"
    }
   ],
   "source": [
    "## header right now: age (num), workclass (cat), fnlwgt (num), education (cat) education-num (num), marital-status (cat), occupation (cat), relationship (cat), race (cat), sex (cat), capital-gain (num), capital-loss (num), hours-per-week (num), native-country (cat), income (cat)\n",
    "dfraw.columns"
   ]
  },
  {
   "cell_type": "code",
   "execution_count": 28,
   "metadata": {},
   "outputs": [],
   "source": [
    "# Let's start cleaning up the data\n",
    "df = dfraw.copy()\n",
    "\n",
    "# Let's get rid of the record weights 'fnlwgt' and 'education' (which contains same information as 'education-num')\n",
    "if 'fnlwgt' in df.columns:\n",
    "    df = df.drop('fnlwgt', axis=1)\n",
    "if 'education' in df.columns:\n",
    "    df = df.drop('education', axis=1)\n",
    "\n",
    "# remove rows with NaN\n",
    "df = df.dropna(axis=0)"
   ]
  },
  {
   "cell_type": "code",
   "execution_count": 29,
   "metadata": {},
   "outputs": [],
   "source": [
    "# Now we need to recode the categorical attributes\n",
    "workclass_list = ['Federal-gov', 'Local-gov', 'Never-worked', 'Private', 'Self-emp-inc', 'Self-emp-not-inc', 'State-gov', 'Without-pay']\n",
    "\n",
    "marital_status_list = ['Divorced', 'Married-AF-spouse', 'Married-civ-spouse', 'Married-spouse-absent', 'Never-married', 'Separated', 'Widowed']\n",
    "\n",
    "occupation_list = ['Adm-clerical', 'Armed-Forces', 'Craft-repair', 'Exec-managerial', 'Farming-fishing', 'Handlers-cleaners', 'Machine-op-inspct', 'Other-service', 'Priv-house-serv', 'Prof-specialty', 'Protective-serv', 'Sales', 'Tech-support', 'Transport-moving' ]\n",
    "    \n",
    "relationship_list = ['Husband', 'Not-in-family', 'Other-relative', 'Own-child', 'Unmarried', 'Wife']\n",
    "\n",
    "race_list =['Amer-Indian-Eskimo', 'Asian-Pac-Islander', 'Black', 'Other', 'White' ]\n",
    "\n",
    "sex_list = ['Male', 'Female']\n",
    "\n",
    "native_country_list = ['Cambodia', 'Canada', 'China', 'Columbia', 'Cuba', 'Dominican-Republic',\n",
    "        'Ecuador', 'El-Salvador', 'England', 'France', 'Germany', 'Greece',\n",
    "        'Guatemala', 'Haiti', 'Holand-Netherlands', 'Honduras', 'Hong', 'Hungary',\n",
    "        'India', 'Iran', 'Ireland', 'Italy', 'Jamaica', 'Japan', 'Laos', 'Mexico',\n",
    "        'Nicaragua', 'Outlying-US(Guam-USVI-etc)', 'Peru', 'Philippines', 'Poland',\n",
    "        'Portugal', 'Puerto-Rico', 'Scotland', 'South', 'Taiwan', 'Thailand',\n",
    "        'Trinadad&Tobago', 'United-States', 'Vietnam', 'Yugoslavia']\n",
    "\n",
    "income_list = ['<=50K', '>50K']\n",
    "\n",
    "cat_cols = ['workclass', 'marital-status', 'occupation', 'relationship', 'race', 'sex', 'native-country', 'income']\n",
    "cat_lists = [workclass_list, marital_status_list, occupation_list, relationship_list, race_list, sex_list, native_country_list, income_list]\n",
    "\n",
    "# first make all the numerical cols floats\n",
    "is_cat = []\n",
    "for col_name in df.columns:\n",
    "    cat = True\n",
    "    if not (col_name in cat_cols):\n",
    "        df[col_name] = df[col_name].astype(float)\n",
    "        cat = False\n",
    "        \n",
    "    is_cat.append(cat)\n",
    "\n",
    "# encode categorical\n",
    "for i, col_name in enumerate(cat_cols):\n",
    "    df[col_name] = df[col_name].apply(lambda v: cat_lists[i].index(v))\n",
    "    df[col_name] = df[col_name].astype(int)\n",
    "    \n",
    "# finally, make education-num 0 based and integer\n",
    "df['education-num'] = (df['education-num']-1).astype(int)\n",
    "    \n",
    "    \n",
    "is_cat = [True if col_name in cat_cols else False for col_name in df.columns]\n",
    "is_cat[2] = True # education num\n",
    "col_names = df.columns\n",
    "col_names = [c for c in df.columns]"
   ]
  },
  {
   "cell_type": "markdown",
   "metadata": {},
   "source": [
    "## [Task 1] (15 points) Let's look at our data!"
   ]
  },
  {
   "cell_type": "markdown",
   "metadata": {},
   "source": [
    "### [Task 1a] (5 points) Display some info about our DataFrame (df)."
   ]
  },
  {
   "cell_type": "code",
   "execution_count": 30,
   "metadata": {},
   "outputs": [
    {
     "name": "stdout",
     "output_type": "stream",
     "text": [
      "<class 'pandas.core.frame.DataFrame'>\n",
      "Int64Index: 45222 entries, 0 to 48841\n",
      "Data columns (total 13 columns):\n",
      " #   Column          Non-Null Count  Dtype  \n",
      "---  ------          --------------  -----  \n",
      " 0   age             45222 non-null  float64\n",
      " 1   workclass       45222 non-null  int64  \n",
      " 2   education-num   45222 non-null  int64  \n",
      " 3   marital-status  45222 non-null  int64  \n",
      " 4   occupation      45222 non-null  int64  \n",
      " 5   relationship    45222 non-null  int64  \n",
      " 6   race            45222 non-null  int64  \n",
      " 7   sex             45222 non-null  int64  \n",
      " 8   capital-gain    45222 non-null  float64\n",
      " 9   capital-loss    45222 non-null  float64\n",
      " 10  hours-per-week  45222 non-null  float64\n",
      " 11  native-country  45222 non-null  int64  \n",
      " 12  income          45222 non-null  int64  \n",
      "dtypes: float64(4), int64(9)\n",
      "memory usage: 4.8 MB\n"
     ]
    }
   ],
   "source": [
    "###* Put your code below (hint: 1 line) *###\n",
    "df.info()"
   ]
  },
  {
   "cell_type": "markdown",
   "metadata": {},
   "source": [
    "### [Task 1b] (5 points) Show the first 8 rows of our DataFrame (df)."
   ]
  },
  {
   "cell_type": "code",
   "execution_count": 31,
   "metadata": {},
   "outputs": [
    {
     "data": {
      "text/html": [
       "<div>\n",
       "<style scoped>\n",
       "    .dataframe tbody tr th:only-of-type {\n",
       "        vertical-align: middle;\n",
       "    }\n",
       "\n",
       "    .dataframe tbody tr th {\n",
       "        vertical-align: top;\n",
       "    }\n",
       "\n",
       "    .dataframe thead th {\n",
       "        text-align: right;\n",
       "    }\n",
       "</style>\n",
       "<table border=\"1\" class=\"dataframe\">\n",
       "  <thead>\n",
       "    <tr style=\"text-align: right;\">\n",
       "      <th></th>\n",
       "      <th>age</th>\n",
       "      <th>workclass</th>\n",
       "      <th>education-num</th>\n",
       "      <th>marital-status</th>\n",
       "      <th>occupation</th>\n",
       "      <th>relationship</th>\n",
       "      <th>race</th>\n",
       "      <th>sex</th>\n",
       "      <th>capital-gain</th>\n",
       "      <th>capital-loss</th>\n",
       "      <th>hours-per-week</th>\n",
       "      <th>native-country</th>\n",
       "      <th>income</th>\n",
       "    </tr>\n",
       "  </thead>\n",
       "  <tbody>\n",
       "    <tr>\n",
       "      <th>0</th>\n",
       "      <td>39.0</td>\n",
       "      <td>6</td>\n",
       "      <td>12</td>\n",
       "      <td>4</td>\n",
       "      <td>0</td>\n",
       "      <td>1</td>\n",
       "      <td>4</td>\n",
       "      <td>0</td>\n",
       "      <td>2174.0</td>\n",
       "      <td>0.0</td>\n",
       "      <td>40.0</td>\n",
       "      <td>38</td>\n",
       "      <td>0</td>\n",
       "    </tr>\n",
       "    <tr>\n",
       "      <th>1</th>\n",
       "      <td>50.0</td>\n",
       "      <td>5</td>\n",
       "      <td>12</td>\n",
       "      <td>2</td>\n",
       "      <td>3</td>\n",
       "      <td>0</td>\n",
       "      <td>4</td>\n",
       "      <td>0</td>\n",
       "      <td>0.0</td>\n",
       "      <td>0.0</td>\n",
       "      <td>13.0</td>\n",
       "      <td>38</td>\n",
       "      <td>0</td>\n",
       "    </tr>\n",
       "    <tr>\n",
       "      <th>2</th>\n",
       "      <td>38.0</td>\n",
       "      <td>3</td>\n",
       "      <td>8</td>\n",
       "      <td>0</td>\n",
       "      <td>5</td>\n",
       "      <td>1</td>\n",
       "      <td>4</td>\n",
       "      <td>0</td>\n",
       "      <td>0.0</td>\n",
       "      <td>0.0</td>\n",
       "      <td>40.0</td>\n",
       "      <td>38</td>\n",
       "      <td>0</td>\n",
       "    </tr>\n",
       "    <tr>\n",
       "      <th>3</th>\n",
       "      <td>53.0</td>\n",
       "      <td>3</td>\n",
       "      <td>6</td>\n",
       "      <td>2</td>\n",
       "      <td>5</td>\n",
       "      <td>0</td>\n",
       "      <td>2</td>\n",
       "      <td>0</td>\n",
       "      <td>0.0</td>\n",
       "      <td>0.0</td>\n",
       "      <td>40.0</td>\n",
       "      <td>38</td>\n",
       "      <td>0</td>\n",
       "    </tr>\n",
       "    <tr>\n",
       "      <th>4</th>\n",
       "      <td>28.0</td>\n",
       "      <td>3</td>\n",
       "      <td>12</td>\n",
       "      <td>2</td>\n",
       "      <td>9</td>\n",
       "      <td>5</td>\n",
       "      <td>2</td>\n",
       "      <td>1</td>\n",
       "      <td>0.0</td>\n",
       "      <td>0.0</td>\n",
       "      <td>40.0</td>\n",
       "      <td>4</td>\n",
       "      <td>0</td>\n",
       "    </tr>\n",
       "    <tr>\n",
       "      <th>5</th>\n",
       "      <td>37.0</td>\n",
       "      <td>3</td>\n",
       "      <td>13</td>\n",
       "      <td>2</td>\n",
       "      <td>3</td>\n",
       "      <td>5</td>\n",
       "      <td>4</td>\n",
       "      <td>1</td>\n",
       "      <td>0.0</td>\n",
       "      <td>0.0</td>\n",
       "      <td>40.0</td>\n",
       "      <td>38</td>\n",
       "      <td>0</td>\n",
       "    </tr>\n",
       "    <tr>\n",
       "      <th>6</th>\n",
       "      <td>49.0</td>\n",
       "      <td>3</td>\n",
       "      <td>4</td>\n",
       "      <td>3</td>\n",
       "      <td>7</td>\n",
       "      <td>1</td>\n",
       "      <td>2</td>\n",
       "      <td>1</td>\n",
       "      <td>0.0</td>\n",
       "      <td>0.0</td>\n",
       "      <td>16.0</td>\n",
       "      <td>22</td>\n",
       "      <td>0</td>\n",
       "    </tr>\n",
       "    <tr>\n",
       "      <th>7</th>\n",
       "      <td>52.0</td>\n",
       "      <td>5</td>\n",
       "      <td>8</td>\n",
       "      <td>2</td>\n",
       "      <td>3</td>\n",
       "      <td>0</td>\n",
       "      <td>4</td>\n",
       "      <td>0</td>\n",
       "      <td>0.0</td>\n",
       "      <td>0.0</td>\n",
       "      <td>45.0</td>\n",
       "      <td>38</td>\n",
       "      <td>1</td>\n",
       "    </tr>\n",
       "  </tbody>\n",
       "</table>\n",
       "</div>"
      ],
      "text/plain": [
       "    age  workclass  education-num  marital-status  occupation  relationship  \\\n",
       "0  39.0          6             12               4           0             1   \n",
       "1  50.0          5             12               2           3             0   \n",
       "2  38.0          3              8               0           5             1   \n",
       "3  53.0          3              6               2           5             0   \n",
       "4  28.0          3             12               2           9             5   \n",
       "5  37.0          3             13               2           3             5   \n",
       "6  49.0          3              4               3           7             1   \n",
       "7  52.0          5              8               2           3             0   \n",
       "\n",
       "   race  sex  capital-gain  capital-loss  hours-per-week  native-country  \\\n",
       "0     4    0        2174.0           0.0            40.0              38   \n",
       "1     4    0           0.0           0.0            13.0              38   \n",
       "2     4    0           0.0           0.0            40.0              38   \n",
       "3     2    0           0.0           0.0            40.0              38   \n",
       "4     2    1           0.0           0.0            40.0               4   \n",
       "5     4    1           0.0           0.0            40.0              38   \n",
       "6     2    1           0.0           0.0            16.0              22   \n",
       "7     4    0           0.0           0.0            45.0              38   \n",
       "\n",
       "   income  \n",
       "0       0  \n",
       "1       0  \n",
       "2       0  \n",
       "3       0  \n",
       "4       0  \n",
       "5       0  \n",
       "6       0  \n",
       "7       1  "
      ]
     },
     "execution_count": 31,
     "metadata": {},
     "output_type": "execute_result"
    }
   ],
   "source": [
    "###* Put your code below (hint: 1 line, be sure that you display exactly the first 8 rows) *###\n",
    "df.head(8)"
   ]
  },
  {
   "cell_type": "markdown",
   "metadata": {},
   "source": [
    "### [Task 1c] (5 points) Display the shape of our DataFrame (df). "
   ]
  },
  {
   "cell_type": "code",
   "execution_count": 32,
   "metadata": {},
   "outputs": [
    {
     "data": {
      "text/plain": [
       "(45222, 13)"
      ]
     },
     "execution_count": 32,
     "metadata": {},
     "output_type": "execute_result"
    }
   ],
   "source": [
    "# how many records do we have?\n",
    "###* Put your code below (hint: 1 line) *###\n",
    "df.shape"
   ]
  },
  {
   "cell_type": "markdown",
   "metadata": {},
   "source": [
    "### Feature engineering"
   ]
  },
  {
   "cell_type": "code",
   "execution_count": 33,
   "metadata": {},
   "outputs": [],
   "source": [
    "# grab all the data as a numpy array\n",
    "all_xy = np.asarray(df, dtype='float64')\n",
    "assert all_xy.shape[1] == 13\n",
    "\n",
    "label_col_idx = all_xy.shape[1]-1\n",
    "features_col_idx = range(0, label_col_idx)\n",
    "\n",
    "feature_names = col_names[0:label_col_idx]"
   ]
  },
  {
   "cell_type": "code",
   "execution_count": 34,
   "metadata": {},
   "outputs": [],
   "source": [
    "# separate features from the label\n",
    "all_x = all_xy[:,features_col_idx]\n",
    "all_y = all_xy[:,label_col_idx]\n",
    "\n",
    "is_cat_features = is_cat[0:len(is_cat)-1]"
   ]
  },
  {
   "cell_type": "markdown",
   "metadata": {},
   "source": [
    "## [Task 2] (35 points) Feature Engineering"
   ]
  },
  {
   "cell_type": "markdown",
   "metadata": {},
   "source": [
    "### [Task 2a] (10 points) Standardize (i.e., z-score normalize) the numerical features of 'all_x', store the results (all features, all instances) in 'all_x_zscore'."
   ]
  },
  {
   "cell_type": "code",
   "execution_count": 35,
   "metadata": {},
   "outputs": [],
   "source": [
    "###* Put your code below. Be sure to store the result back into 'all_x_zscore' (make a copy, do not modify 'all_x')! *###\n",
    "###* Hint: use is_cat_features to determine the features to standardize *###\n",
    "###* Note: you can use scikit-learn or you can do it manually with numpy. *###\n",
    "###* If you do it manually, it is recommended to put your code in the utils.py file (name your function 'zscore_normalize') *###\n",
    "stdb = [not cat for i, cat in enumerate(is_cat_features)]\n",
    "all_x_zscore = all_x.copy()\n",
    "all_x_zscore = utils.zscore_normalize(all_x_zscore, stdb)\n",
    "\n",
    "# Note: the provided solution shows how to do this using NumPy. \n",
    "# Of course there are many alternatives, for example one could use scikit-learn's StandardScaler"
   ]
  },
  {
   "cell_type": "markdown",
   "metadata": {},
   "source": [
    "### [Task 2b] (10 points) Normalize (i.e., min-max normalize) the numerical features of 'all_x', store the results (all features, all instances) in 'all_x_normalized'."
   ]
  },
  {
   "cell_type": "code",
   "execution_count": 36,
   "metadata": {},
   "outputs": [],
   "source": [
    "###* Put your code below. Be sure to store the result back into 'all_x_zscore' (make a copy, do not modify 'all_x')! *###\n",
    "###* Hint: use is_cat_features to determine the features to normalize *###\n",
    "###* Note: you can use scikit-learn or you can do it manually with numpy. *###\n",
    "###* If you do it manually, it is recommended to put your code in the utils.py file (name your function 'minmax_normalize') *###\n",
    "normb = [not cat for i, cat in enumerate(is_cat_features)]\n",
    "all_x_normalized = all_x.copy()\n",
    "all_x_normalized = utils.minmax_normalize(all_x_normalized, normb)\n",
    "\n",
    "# Note: the provided solution shows how to do this using NumPy. \n",
    "# Of course there are many alternatives, for example one could use scikit-learn's MinMaxScaler\n",
    "#\n",
    "# One pitfall is to try to use sklearn.preprocessing.normalize or sklearn.preprocessing.Normalizer\n",
    "# Both of these approaches won't work because they do not do min-max normalization! \n",
    "# What they do is normalize each examples's features (i.e., each row of the data matrix) so it has unit norm. (See documentation.)\n",
    "# The result is that you lose some information about relative values of features. This is not what is intended!"
   ]
  },
  {
   "cell_type": "code",
   "execution_count": null,
   "metadata": {},
   "outputs": [],
   "source": []
  },
  {
   "cell_type": "code",
   "execution_count": null,
   "metadata": {},
   "outputs": [],
   "source": []
  },
  {
   "cell_type": "markdown",
   "metadata": {},
   "source": [
    "### [Task 2c] (10 points) Convert the categorical features to binary features (one-hot encoding) of 'all_x_zscore' and 'all_x_normalized'. Store the results (all features, all instances) in 'all_x_zscore_onehot' and 'all_x_normalized_onehot'."
   ]
  },
  {
   "cell_type": "code",
   "execution_count": 37,
   "metadata": {},
   "outputs": [],
   "source": [
    "###* Put your code below. Be sure to store the result back into 'all_x_zscore' (make a copy, do not modify 'all_x')! *###\n",
    "###* Hint: use is_cat_features to determine the features to normalize *###\n",
    "###* Note: you can use scikit-learn or you can do it manually with numpy. *###\n",
    "###* If you do it manually, it is recommended to put your code in the utils.py file (name your function 'one_hot_encode') *###\n",
    "onehotb = is_cat_features #\n",
    "all_x_zscore_onehot = all_x_zscore.copy()\n",
    "all_x_zscore_onehot = utils.one_hot_encode(all_x_zscore_onehot, onehotb)\n",
    "all_x_normalized_onehot = all_x_normalized.copy()\n",
    "all_x_normalized_onehot = utils.one_hot_encode(all_x_normalized_onehot, onehotb)\n",
    "\n",
    "# Again the provided solution shows how to do this using NumPy. \n",
    "# Of course there are many alternatives, for example one could use scikit-learn's OneHotEncoder.\n",
    "#\n",
    "# Using OneHotEncoder works fine but there is no simple way to keep feature order."
   ]
  },
  {
   "cell_type": "markdown",
   "metadata": {},
   "source": [
    "### [Task 2d] (5 points) Sanity check of the mean and standard deviation of 'all_x_zscore', the min/max of 'all_x_normalized'"
   ]
  },
  {
   "cell_type": "code",
   "execution_count": null,
   "metadata": {},
   "outputs": [],
   "source": []
  },
  {
   "cell_type": "code",
   "execution_count": 38,
   "metadata": {},
   "outputs": [
    {
     "name": "stdout",
     "output_type": "stream",
     "text": [
      "[-2.32542402e-17 -1.97189672e-17  2.49825959e-17  2.14473229e-16] [1. 1. 1. 1.]\n",
      "\n",
      "[0. 0. 0. 0.] [1. 1. 1. 1.]\n",
      "\n",
      "[0.29517728 0.01101441 0.02033871 0.40753078] [0.18106471 0.07506422 0.0929641  0.12252424]\n",
      "\n",
      "[-1.63023083 -0.1467332  -0.21878026 -3.32612376] [ 3.89265644 13.17519274 10.53806042  4.83552657]\n",
      "\n",
      "[0. 0. 0. 0. 0. 0. 0. 0. 0. 0. 0. 0. 0. 0. 0. 0. 0. 0. 0. 0. 0. 0. 0. 0.\n",
      " 0. 0. 0. 0. 0. 0. 0. 0. 0. 0. 0. 0. 0. 0. 0. 0. 0. 0. 0. 0. 0. 0. 0. 0.\n",
      " 0. 0. 0. 0. 0. 0. 0. 0. 0. 0. 0. 0. 0. 0. 0. 0. 0. 0. 0. 0. 0. 0. 0. 0.\n",
      " 0. 0. 0. 0. 0. 0. 0. 0. 0. 0. 0. 0. 0. 0. 0. 0. 0. 0. 0. 0. 0. 0. 0. 0.\n",
      " 0. 0. 0. 0. 0. 0. 0.] [1. 1. 1. 0. 1. 1. 1. 1. 1. 1. 1. 1. 1. 1. 1. 1. 1. 1. 1. 1. 1. 1. 1. 1.\n",
      " 1. 1. 1. 1. 1. 1. 1. 1. 1. 1. 1. 1. 1. 1. 1. 1. 1. 1. 1. 1. 1. 1. 1. 1.\n",
      " 1. 1. 1. 1. 1. 1. 1. 1. 1. 1. 1. 1. 1. 1. 1. 1. 1. 1. 1. 1. 1. 1. 1. 1.\n",
      " 1. 1. 1. 1. 1. 1. 1. 1. 1. 1. 1. 1. 1. 1. 1. 1. 1. 1. 1. 1. 1. 1. 1. 1.\n",
      " 1. 1. 1. 1. 1. 1. 1.]\n"
     ]
    }
   ],
   "source": [
    "# sanity check the means and std, min/max\n",
    "###* Put your code below. Display the mean and standard deviation of a few (e.g., 3 or 4) of features *###\n",
    "print(np.mean(all_x_zscore[:,stdb], axis=0), np.std(all_x_zscore[:,stdb], axis=0))\n",
    "print()\n",
    "print(np.amin(all_x_normalized[:,stdb], axis=0), np.amax(all_x_normalized[:,stdb], axis=0))\n",
    "print()\n",
    "print(np.mean(all_x_normalized[:,stdb], axis=0), np.std(all_x_normalized[:,stdb], axis=0))\n",
    "print()\n",
    "print(np.min(all_x_zscore[:,stdb], axis=0), np.max(all_x_zscore[:,stdb], axis=0))\n",
    "print()\n",
    "print(np.amin(all_x_normalized_onehot, axis=0), np.amax(all_x_normalized_onehot, axis=0))"
   ]
  },
  {
   "cell_type": "markdown",
   "metadata": {},
   "source": [
    "### [Task 2d] What do you notice? Are the mean and standard deviation as you expected? What about the min/max? Why or why not?"
   ]
  },
  {
   "cell_type": "code",
   "execution_count": 39,
   "metadata": {},
   "outputs": [],
   "source": [
    "###* Put your answer as a comment *###\n",
    "#\n",
    "#\n",
    "# This is as expected. E.g., we do see that the min and max for normalized is 0 and 1 as expected.\n",
    "# It's interesting to observe that min and max for z-score can rather small/large values for some features\n",
    "#"
   ]
  },
  {
   "cell_type": "markdown",
   "metadata": {},
   "source": [
    "### Train, Test, Validation Split"
   ]
  },
  {
   "cell_type": "code",
   "execution_count": 40,
   "metadata": {},
   "outputs": [],
   "source": [
    "# now split between train, test, and validation\n",
    "prop_vec = [14, 3, 3]\n",
    "\n",
    "# what preprocessed features are we using?\n",
    "t = 'normalized'\n",
    "\n",
    "def grab_data(t):\n",
    "    if t == 'zscore':\n",
    "        features_x = all_x_zscore\n",
    "    elif t == 'normalized':\n",
    "        features_x = all_x_normalized\n",
    "    elif t == 'onehot_z':\n",
    "        features_x = all_x_zscore_onehot\n",
    "    elif t == 'onehot_n':\n",
    "        features_x = all_x_normalized_onehot\n",
    "    else:\n",
    "        features_x = all_x\n",
    "\n",
    "    # note: because of the deterministic split, we'll always be looking at the same records for train/val/test, \n",
    "    # no matter which preprocessed features set we look at\n",
    "    train_x, train_y, test_x, test_y, val_x, val_y = utils.train_test_val_split(features_x, all_y, prop_vec, \n",
    "                                                                                shuffle=True, seed=seed-1)\n",
    "    return train_x, train_y, test_x, test_y, val_x, val_y\n",
    "\n",
    "train_x, train_y, test_x, test_y, val_x, val_y = grab_data(t)"
   ]
  },
  {
   "cell_type": "code",
   "execution_count": 41,
   "metadata": {},
   "outputs": [
    {
     "data": {
      "text/plain": [
       "((31656, 12), (31656,), (6784, 12), (6784,), (6782, 12), (6782,))"
      ]
     },
     "execution_count": 41,
     "metadata": {},
     "output_type": "execute_result"
    }
   ],
   "source": [
    "# sanity check shapes\n",
    "train_x.shape, train_y.shape, test_x.shape, test_y.shape, val_x.shape, val_y.shape"
   ]
  },
  {
   "cell_type": "markdown",
   "metadata": {},
   "source": [
    "### Stats & Looking at the data"
   ]
  },
  {
   "cell_type": "code",
   "execution_count": 42,
   "metadata": {},
   "outputs": [
    {
     "name": "stdout",
     "output_type": "stream",
     "text": [
      "--- income ---\n",
      "0.0: 23852\n",
      "1.0: 7804\n"
     ]
    }
   ],
   "source": [
    "# what does the distribution of labels look like?\n",
    "utils.print_array_hist(train_y, label=col_names[-1])"
   ]
  },
  {
   "cell_type": "code",
   "execution_count": 43,
   "metadata": {},
   "outputs": [
    {
     "name": "stdout",
     "output_type": "stream",
     "text": [
      "--- age ---\n",
      "min: 0.00\n",
      "max: 1.00\n",
      "mean (+- std): 0.30 (+- 0.18)\n",
      "\n",
      "--- workclass ---\n",
      "0.0: 968\n",
      "1.0: 2191\n",
      "3.0: 23327\n",
      "4.0: 1130\n",
      "5.0: 2661\n",
      "6.0: 1366\n",
      "7.0: 13\n",
      "\n",
      "--- education-num ---\n",
      "0.0: 52\n",
      "1.0: 152\n",
      "2.0: 326\n",
      "3.0: 615\n",
      "4.0: 476\n",
      "5.0: 888\n",
      "6.0: 1127\n",
      "7.0: 396\n",
      "8.0: 10203\n",
      "9.0: 6965\n",
      "10.0: 1365\n",
      "11.0: 1067\n",
      "12.0: 5314\n",
      "13.0: 1770\n",
      "14.0: 569\n",
      "15.0: 371\n",
      "\n",
      "--- marital-status ---\n",
      "0.0: 4471\n",
      "1.0: 21\n",
      "2.0: 14711\n",
      "3.0: 380\n",
      "4.0: 10215\n",
      "5.0: 983\n",
      "6.0: 875\n",
      "\n",
      "--- occupation ---\n",
      "0.0: 3835\n",
      "1.0: 11\n",
      "2.0: 4170\n",
      "3.0: 4239\n",
      "4.0: 1061\n",
      "5.0: 1447\n",
      "6.0: 2062\n",
      "7.0: 3352\n",
      "8.0: 160\n",
      "9.0: 4238\n",
      "10.0: 707\n",
      "11.0: 3780\n",
      "12.0: 964\n",
      "13.0: 1630\n",
      "\n",
      "--- relationship ---\n",
      "0.0: 13032\n",
      "1.0: 8215\n",
      "2.0: 941\n",
      "3.0: 4677\n",
      "4.0: 3329\n",
      "5.0: 1462\n",
      "\n",
      "--- race ---\n",
      "0.0: 305\n",
      "1.0: 886\n",
      "2.0: 2938\n",
      "3.0: 236\n",
      "4.0: 27291\n",
      "\n",
      "--- sex ---\n",
      "0.0: 21337\n",
      "1.0: 10319\n",
      "\n",
      "--- capital-gain ---\n",
      "min: 0.00\n",
      "max: 1.00\n",
      "mean (+- std): 0.01 (+- 0.08)\n",
      "\n",
      "--- capital-loss ---\n",
      "min: 0.00\n",
      "max: 1.00\n",
      "mean (+- std): 0.02 (+- 0.09)\n",
      "\n",
      "--- hours-per-week ---\n",
      "min: 0.00\n",
      "max: 1.00\n",
      "mean (+- std): 0.41 (+- 0.12)\n",
      "\n",
      "--- native-country ---\n",
      "0.0: 19\n",
      "1.0: 108\n",
      "2.0: 70\n",
      "3.0: 63\n",
      "4.0: 80\n",
      "5.0: 65\n",
      "6.0: 27\n",
      "7.0: 101\n",
      "8.0: 88\n",
      "9.0: 27\n",
      "10.0: 136\n",
      "11.0: 37\n",
      "12.0: 66\n",
      "13.0: 44\n",
      "14.0: 1\n",
      "15.0: 12\n",
      "16.0: 20\n",
      "17.0: 13\n",
      "18.0: 95\n",
      "19.0: 37\n",
      "20.0: 22\n",
      "21.0: 79\n",
      "22.0: 68\n",
      "23.0: 66\n",
      "24.0: 11\n",
      "25.0: 658\n",
      "26.0: 37\n",
      "27.0: 18\n",
      "28.0: 31\n",
      "29.0: 185\n",
      "30.0: 55\n",
      "31.0: 42\n",
      "32.0: 132\n",
      "33.0: 9\n",
      "34.0: 75\n",
      "35.0: 42\n",
      "36.0: 19\n",
      "37.0: 18\n",
      "38.0: 28907\n",
      "39.0: 56\n",
      "40.0: 17\n",
      "\n"
     ]
    }
   ],
   "source": [
    "# what does the distribution of features look like?\n",
    "for i in range(train_x.shape[1]):\n",
    "    if is_cat_features[i]:\n",
    "        utils.print_array_hist(train_x[:, i], label=col_names[i])\n",
    "    else:\n",
    "        utils.print_array_basic_stats(train_x[:, i], label=col_names[i])\n",
    "    print()"
   ]
  },
  {
   "cell_type": "code",
   "execution_count": 44,
   "metadata": {},
   "outputs": [
    {
     "data": {
      "image/png": "[encoded data removed]",
      "text/plain": [
       "<Figure size 432x288 with 1 Axes>"
      ]
     },
     "metadata": {
      "needs_background": "light"
     },
     "output_type": "display_data"
    }
   ],
   "source": [
    "# plot feature distribution based on income\n",
    "feature_idx = 0 # age\n",
    "\n",
    "if t == 'zscore':\n",
    "    bins = np.linspace(-2, 4, 40)\n",
    "elif t == 'normalized':\n",
    "    bins = np.linspace(0, 1, 20)\n",
    "else:\n",
    "    bins = 20\n",
    "\n",
    "inc0_idx = train_y == 0\n",
    "inc1_idx = train_y == 1\n",
    "\n",
    "plt.hist(train_x[inc0_idx,feature_idx], bins, density=True, alpha=0.5, label=income_list[0])\n",
    "plt.hist(train_x[inc1_idx,feature_idx], bins, density=True, alpha=0.5, label=income_list[1])\n",
    "\n",
    "plt.xlabel('{} {}'.format(col_names[feature_idx], t))\n",
    "plt.ylabel('Density')\n",
    "\n",
    "plt.legend(loc='upper right')\n",
    "plt.show()"
   ]
  },
  {
   "cell_type": "markdown",
   "metadata": {},
   "source": [
    "## [Task 3] (20 points): Correlations"
   ]
  },
  {
   "cell_type": "markdown",
   "metadata": {},
   "source": [
    "### [Task 3a] (5 points) Plot a heatmap of (pairwise) correlation between features and labels (see exercise 1)"
   ]
  },
  {
   "cell_type": "code",
   "execution_count": 45,
   "metadata": {},
   "outputs": [
    {
     "data": {
      "image/png": "[encoded data removed]",
      "text/plain": [
       "<Figure size 1008x1008 with 2 Axes>"
      ]
     },
     "metadata": {
      "needs_background": "light"
     },
     "output_type": "display_data"
    }
   ],
   "source": [
    "###* Put your code below *###\n",
    "\n",
    "train_xy = np.hstack((train_x, train_y.reshape(-1, 1)))\n",
    "\n",
    "pairwise_corr = np.corrcoef(train_xy, rowvar=False)\n",
    "\n",
    "plots.heatmap(pairwise_corr, col_names, col_names, rot=90, fsz=(14, 14))"
   ]
  },
  {
   "cell_type": "markdown",
   "metadata": {},
   "source": [
    "### [Task 3b] (10 points) What do you observe? Which features are correlated with the label?"
   ]
  },
  {
   "cell_type": "code",
   "execution_count": 46,
   "metadata": {},
   "outputs": [],
   "source": [
    "###* Put your answer as a comment ###\n",
    "#\n",
    "#\n",
    "# Several features have weak positive and negative correlations with income. For example\n",
    "# positive correlations include: age, education-num, capital-game, hours-per weeks\n",
    "# (slight) negative correlations include marital status, relationship, and sex\n",
    "# education-num seems to have the highest correlation\n",
    "# note: some features are correlated with each other (e.g., sex and relationship)"
   ]
  },
  {
   "cell_type": "markdown",
   "metadata": {},
   "source": [
    "### [Task 3c] (5 points) Given that some features like workclass, marital-status, race, sex are categorical, is the Pearson correlation coefficient a good measure of statistical relationship? If yes, explain why. If not, explain why not *and* propose (in brief) an alternative."
   ]
  },
  {
   "cell_type": "code",
   "execution_count": 47,
   "metadata": {},
   "outputs": [],
   "source": [
    "###* Put your answer as a comment ###\n",
    "#\n",
    "#\n",
    "# It's not the best metric, but it does give us some idea.\n",
    "# One reason is that values of categorical attributes \n",
    "# are not necessarily ordered and thus it's not clear what the correlation coefficient tell us in this case\n",
    "# There are many other (better) metrics we could use for categorical features (e.g., conditional entropy / information gain)\n",
    "#"
   ]
  },
  {
   "cell_type": "markdown",
   "metadata": {},
   "source": [
    "## Part 2: Let's train some models!"
   ]
  },
  {
   "cell_type": "markdown",
   "metadata": {},
   "source": [
    "## [Task 4] (30 points): Learning Curves"
   ]
  },
  {
   "cell_type": "markdown",
   "metadata": {},
   "source": [
    "### [Task 4a] (10 points): Complete the definition of the subsample_train_eval function which repreatedly trains a model using a subset of the train data and calculates training & validation accuracy"
   ]
  },
  {
   "cell_type": "code",
   "execution_count": 48,
   "metadata": {},
   "outputs": [],
   "source": [
    "from sklearn.base import clone\n",
    "\n",
    "def model_accuracy(model, x, true_y):\n",
    "    pred = model.predict(x)\n",
    "    return np.sum(pred == true_y) / true_y.shape[0]\n",
    "\n",
    "###* Put your code below *###\n",
    "def subsample_train_eval(model, train_x, train_y, val_x, val_y, sample_size, num_repeats=10):\n",
    "    \n",
    "    train_accs = np.zeros((num_repeats,1))\n",
    "    val_accs = np.zeros_like(train_accs)\n",
    "    \n",
    "    rng = np.random.default_rng()\n",
    "    for i in range(0, num_repeats):\n",
    "        m = clone(model) # clone the model\n",
    "        \n",
    "        # take sample_size random records from train_x (and train_y) and fit m on it\n",
    "        ###* Put your code here *###\n",
    "        \n",
    "        # the key here is to make sure that you take the same rows (i.e., examples) \n",
    "        # in both train_x and train_y when sampling \n",
    "        # (if not it will break association between features and label and the resulting model won't learn)\n",
    "        \n",
    "        # a simple way to achieve this is to first take a random permutation of the integers 0, 1, ..., n-1 \n",
    "        # (where n is the size of the training set)\n",
    "        pi = rng.permutation(train_x.shape[0])\n",
    "        \n",
    "        # and then take a random subset (of the appropriate size) of this permutation\n",
    "        pi = pi[0:sample_size]\n",
    "        \n",
    "        # Finally we use the random subset to index into train_x and train_y \n",
    "        tr_x = train_x[pi]\n",
    "        tr_y = train_y[pi]\n",
    "        \n",
    "        m.fit(tr_x, tr_y)\n",
    "        \n",
    "        # get the accuracies\n",
    "        train_accs[i] = model_accuracy(m, tr_x, tr_y)\n",
    "        val_accs[i] = model_accuracy(m, val_x, val_y)\n",
    "        \n",
    "    return train_accs, val_accs"
   ]
  },
  {
   "cell_type": "code",
   "execution_count": 49,
   "metadata": {},
   "outputs": [],
   "source": [
    "def plot_learning_curve(model_instance, model_name, train_x, train_y, val_x, val_y, train_szs=None):\n",
    "    \n",
    "    if train_szs is None:\n",
    "        train_szs = np.array([25, 50, 100, 200, 300, 500, 750, 1000, 1500, 2000])\n",
    "        \n",
    "    num_datapoints = train_szs.shape[0]\n",
    "    accs = np.zeros((num_datapoints,2))\n",
    "    laccs = np.zeros((num_datapoints,2))\n",
    "    uaccs = np.zeros((num_datapoints,2))\n",
    "    \n",
    "    sys.stdout.write('Plotting')\n",
    "\n",
    "    for i, tsz in enumerate(train_szs):\n",
    "        \n",
    "        nr = 20 if tsz <= 1000 else 10\n",
    "        train_accs, val_accs = subsample_train_eval(model_instance, train_x, train_y, val_x, val_y, tsz, num_repeats=nr)\n",
    "        \n",
    "        train_acc = np.mean(train_accs)\n",
    "        train_acc_std = np.std(train_accs)\n",
    "        \n",
    "        accs[i,0] = train_acc\n",
    "        laccs[i,0] = train_acc - train_acc_std\n",
    "        uaccs[i,0] = train_acc + train_acc_std\n",
    "        \n",
    "        val_acc = np.mean(val_accs)\n",
    "        val_acc_std = np.std(val_accs)\n",
    "        \n",
    "        accs[i,1] = val_acc\n",
    "        laccs[i,1] = val_acc - val_acc_std\n",
    "        uaccs[i,1] = val_acc + val_acc_std\n",
    "        \n",
    "        sys.stdout.write('.')\n",
    "        sys.stdout.flush()\n",
    "    print()\n",
    "    \n",
    "    fig, ax = plt.subplots(figsize=(15,8))\n",
    "\n",
    "    plt.fill_between(train_szs, laccs[:,0]*100.0, uaccs[:,0]*100.0, color='r', alpha=0.3)\n",
    "    plt.fill_between(train_szs, laccs[:,1]*100.0, uaccs[:,1]*100.0, color='b', alpha=0.3)\n",
    "    \n",
    "    plt.plot(train_szs, accs[:,0]*100.0, 'ro-', linewidth=3, label='Training')\n",
    "    plt.plot(train_szs, accs[:,1]*100.0, 'bs--', linewidth=3, label='Validation')\n",
    "\n",
    "    ax.set_xlim(0, np.max(train_szs))\n",
    "    ax.set_ylim(65, 104)\n",
    "    ax.set_xlabel('Number of training examples')\n",
    "    ax.set_ylabel('Accuracy')\n",
    "    ax.set_title('Learning Curves for {}'.format(model_name))\n",
    "\n",
    "    plt.legend()\n",
    "\n",
    "    plt.show()"
   ]
  },
  {
   "cell_type": "markdown",
   "metadata": {},
   "source": [
    "### [Task 4b] (10 points): Complete the code of the cell below to plot the learning curves"
   ]
  },
  {
   "cell_type": "code",
   "execution_count": 50,
   "metadata": {},
   "outputs": [
    {
     "name": "stdout",
     "output_type": "stream",
     "text": [
      "Plotting..........\n"
     ]
    },
    {
     "data": {
      "image/png": "[encoded data removed]",
      "text/plain": [
       "<Figure size 1080x576 with 1 Axes>"
      ]
     },
     "metadata": {
      "needs_background": "light"
     },
     "output_type": "display_data"
    },
    {
     "name": "stdout",
     "output_type": "stream",
     "text": [
      "Plotting..........\n"
     ]
    },
    {
     "data": {
      "image/png": "[encoded data removed]",
      "text/plain": [
       "<Figure size 1080x576 with 1 Axes>"
      ]
     },
     "metadata": {
      "needs_background": "light"
     },
     "output_type": "display_data"
    }
   ],
   "source": [
    "# Let's import what we need from scikit-learn\n",
    "from sklearn.neighbors import KNeighborsClassifier\n",
    "from sklearn.svm import LinearSVC, SVC\n",
    "\n",
    "# grab the zscore normalized version of the data\n",
    "train_x, train_y, test_x, test_y, val_x, val_y = grab_data('zscore')\n",
    "\n",
    "###* put your code here: instantiate a linear SVM model (SVC with a linear kernel) with default hyperparameters and plot its learning curve *###\n",
    "###* note: you just need to call 'plot_learning_curve' with the correct arguments\n",
    "plot_learning_curve(SVC(kernel='linear'), 'SVM', train_x, train_y, val_x, val_y)\n",
    "    \n",
    "\n",
    "###* put your code here: instantiate a KNN (k=1) model with default hyperparameters and plot its learning curve *###\n",
    "###* note: again, you just need to call 'plot_learning_curve' with the correct arguments\n",
    "plot_learning_curve(KNeighborsClassifier(n_neighbors=1), 'kNN(k=1)', train_x, train_y, val_x, val_y)   "
   ]
  },
  {
   "cell_type": "markdown",
   "metadata": {},
   "source": [
    "### [Task 4c] (10 points): What can you conclude about the size of the training data necessary for both the SVM model and the KNN model? If you had to choose between the SVM and the KNN, which would you pick and why?"
   ]
  },
  {
   "cell_type": "code",
   "execution_count": 40,
   "metadata": {},
   "outputs": [],
   "source": [
    "###* Put your answer as a comment ###\n",
    "#\n",
    "#\n",
    "#\n",
    "# Performance for both plateaus at around 750 to 1000 examples. \n",
    "# More data could still help increase accuracy a little bit (maybe 2 or 3%) but it is unlikely to make a much larger difference\n",
    "#\n",
    "# SVM is a clear better choice in this case because KNN performance on validation set is much lower (also it overfits)."
   ]
  },
  {
   "cell_type": "code",
   "execution_count": null,
   "metadata": {},
   "outputs": [],
   "source": []
  },
  {
   "cell_type": "markdown",
   "metadata": {},
   "source": [
    "## [CIS6930 Additional Task -- Task 5] (25 points): Analysis of feature engineering"
   ]
  },
  {
   "cell_type": "markdown",
   "metadata": {},
   "source": [
    "### [Task 5a] (10 points): Train SVM and kNN models as in Task 4 for min-max normalized and zscore normalized features (not one-hot encoded) and compare them (print accuracies, bar plot, whatever you think is appropriate). Use the full training set (no learning curves). What do you conclude and why?"
   ]
  },
  {
   "cell_type": "code",
   "execution_count": 46,
   "metadata": {},
   "outputs": [
    {
     "name": "stdout",
     "output_type": "stream",
     "text": [
      "[zscore SVM] Training accuracy: 81.07%, Validation accuracy: 81.41%\n",
      "[zscore KNN] Training accuracy: 96.87%, Validation accuracy: 79.62%\n",
      "\n",
      "[normalized SVM] Training accuracy: 81.20%, Validation accuracy: 81.38%\n",
      "[normalized KNN] Training accuracy: 96.82%, Validation accuracy: 79.14%\n",
      "\n"
     ]
    }
   ],
   "source": [
    "###* Put your code here *###\n",
    "#\n",
    "def evaluate_model(name, model, train_x, train_y, val_x, val_y):\n",
    "    train_acc = model_accuracy(model, train_x, train_y)\n",
    "    val_acc = model_accuracy(model, val_x, val_y)\n",
    "    print('[{}] Training accuracy: {:.2f}%, Validation accuracy: {:.2f}%'.format(name, train_acc*100, val_acc*100))\n",
    "    \n",
    "    \n",
    "## this code just iterates over the different versions of the data, train the SVM and KNN models, and evaluate them.\n",
    "ts = ['zscore', 'normalized']\n",
    "for t in ts:\n",
    "    train_x, train_y, _, _, val_x, val_y = grab_data(t)\n",
    "    \n",
    "    svm = SVC(kernel='linear').fit(train_x, train_y)\n",
    "    knn = KNeighborsClassifier(n_neighbors=1).fit(train_x, train_y)\n",
    "    \n",
    "    evaluate_model('{} SVM'.format(t), svm, train_x, train_y, val_x, val_y)\n",
    "    evaluate_model('{} KNN'.format(t), knn, train_x, train_y, val_x, val_y)\n",
    "    print()"
   ]
  },
  {
   "cell_type": "code",
   "execution_count": 42,
   "metadata": {},
   "outputs": [],
   "source": [
    "###* Put your answer as a comment ###\n",
    "#\n",
    "#\n",
    "# There does not seem to be a significant difference between standardization (z-score normalization) \n",
    "# and normalization (min-max normalization)! \n",
    "# This is actually not surprising, in most cases they tend to give similar results \n",
    "# (although there are some cases where one is clearly preferable to the other, for example if you have gaussian features you would use zscore)\n",
    "#"
   ]
  },
  {
   "cell_type": "markdown",
   "metadata": {},
   "source": [
    "### [Task 5b] (15 points): Now repeat the analysis but this time compare the one-hot encoded features to non-one-hot encoded features. Use the full training set (no learning curves). What is the impact on the models (for both SVM & kNN) of one-hot encoding? Briefly comment on your findings."
   ]
  },
  {
   "cell_type": "code",
   "execution_count": 43,
   "metadata": {},
   "outputs": [
    {
     "name": "stdout",
     "output_type": "stream",
     "text": [
      "[zscore SVM] Training accuracy: 81.07%, Validation accuracy: 81.41%\n",
      "[zscore KNN] Training accuracy: 96.87%, Validation accuracy: 79.62%\n",
      "\n",
      "[onehot_z SVM] Training accuracy: 84.88%, Validation accuracy: 85.14%\n",
      "[onehot_z KNN] Training accuracy: 97.86%, Validation accuracy: 80.58%\n",
      "\n",
      "[normalized SVM] Training accuracy: 81.20%, Validation accuracy: 81.38%\n",
      "[normalized KNN] Training accuracy: 96.82%, Validation accuracy: 79.14%\n",
      "\n",
      "[onehot_n SVM] Training accuracy: 84.95%, Validation accuracy: 84.90%\n",
      "[onehot_n KNN] Training accuracy: 97.40%, Validation accuracy: 79.36%\n",
      "\n"
     ]
    }
   ],
   "source": [
    "###* Put your code here *###\n",
    "#\n",
    "ts = ['zscore', 'onehot_z', 'normalized', 'onehot_n']\n",
    "\n",
    "## this code just iterates over the different versions of the data, train the SVM and KNN models, and evaluate them.\n",
    "for t in ts:\n",
    "    train_x, train_y, _, _, val_x, val_y = grab_data(t)\n",
    "    \n",
    "    svm = SVC(kernel='linear').fit(train_x, train_y)\n",
    "    knn = KNeighborsClassifier(n_neighbors=1).fit(train_x, train_y)\n",
    "    \n",
    "    evaluate_model('{} SVM'.format(t), svm, train_x, train_y, val_x, val_y)\n",
    "    evaluate_model('{} KNN'.format(t), knn, train_x, train_y, val_x, val_y)\n",
    "    print()\n",
    "        "
   ]
  },
  {
   "cell_type": "code",
   "execution_count": 44,
   "metadata": {},
   "outputs": [],
   "source": [
    "###* Put your answer as a comment ###\n",
    "#\n",
    "# In this case, we observe that one-hot encoding is resulting in a significantly better model \n",
    "# (3 to 4% higher validation accuracy)!\n",
    "#\n",
    "# This shows that feature engineering can lead to significant difference in performance\n",
    "# Note: 85% is about state-of-the-art for Adult (it's hard to do much better; I have seen maybe a handful of models that can achieve 86% or 87%).\n",
    "#"
   ]
  },
  {
   "cell_type": "code",
   "execution_count": null,
   "metadata": {},
   "outputs": [],
   "source": []
  },
  {
   "cell_type": "code",
   "execution_count": null,
   "metadata": {},
   "outputs": [],
   "source": []
  }
 ],
 "metadata": {
  "kernelspec": {
   "display_name": "Python 3",
   "language": "python",
   "name": "python3"
  },
  "language_info": {
   "codemirror_mode": {
    "name": "ipython",
    "version": 3
   },
   "file_extension": ".py",
   "mimetype": "text/x-python",
   "name": "python",
   "nbconvert_exporter": "python",
   "pygments_lexer": "ipython3",
   "version": "3.8.5"
  }
 },
 "nbformat": 4,
 "nbformat_minor": 2
}
